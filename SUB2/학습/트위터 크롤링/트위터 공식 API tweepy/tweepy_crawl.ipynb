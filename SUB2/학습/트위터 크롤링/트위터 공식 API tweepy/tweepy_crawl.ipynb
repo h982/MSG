{
  "nbformat": 4,
  "nbformat_minor": 0,
  "metadata": {
    "colab": {
      "name": "Untitled4.ipynb",
      "provenance": []
    },
    "kernelspec": {
      "name": "python3",
      "display_name": "Python 3"
    },
    "language_info": {
      "name": "python"
    }
  },
  "cells": [
    {
      "cell_type": "code",
      "metadata": {
        "colab": {
          "base_uri": "https://localhost:8080/"
        },
        "id": "OmHl8Uja1X7O",
        "outputId": "6046d6b8-acd5-412e-d24c-7a501308a21a"
      },
      "source": [
        "!pip install tweepy"
      ],
      "execution_count": 1,
      "outputs": [
        {
          "output_type": "stream",
          "name": "stdout",
          "text": [
            "Requirement already satisfied: tweepy in /usr/local/lib/python3.7/dist-packages (3.10.0)\n",
            "Requirement already satisfied: requests[socks]>=2.11.1 in /usr/local/lib/python3.7/dist-packages (from tweepy) (2.23.0)\n",
            "Requirement already satisfied: six>=1.10.0 in /usr/local/lib/python3.7/dist-packages (from tweepy) (1.15.0)\n",
            "Requirement already satisfied: requests-oauthlib>=0.7.0 in /usr/local/lib/python3.7/dist-packages (from tweepy) (1.3.0)\n",
            "Requirement already satisfied: oauthlib>=3.0.0 in /usr/local/lib/python3.7/dist-packages (from requests-oauthlib>=0.7.0->tweepy) (3.1.1)\n",
            "Requirement already satisfied: urllib3!=1.25.0,!=1.25.1,<1.26,>=1.21.1 in /usr/local/lib/python3.7/dist-packages (from requests[socks]>=2.11.1->tweepy) (1.24.3)\n",
            "Requirement already satisfied: idna<3,>=2.5 in /usr/local/lib/python3.7/dist-packages (from requests[socks]>=2.11.1->tweepy) (2.10)\n",
            "Requirement already satisfied: chardet<4,>=3.0.2 in /usr/local/lib/python3.7/dist-packages (from requests[socks]>=2.11.1->tweepy) (3.0.4)\n",
            "Requirement already satisfied: certifi>=2017.4.17 in /usr/local/lib/python3.7/dist-packages (from requests[socks]>=2.11.1->tweepy) (2021.5.30)\n",
            "Requirement already satisfied: PySocks!=1.5.7,>=1.5.6 in /usr/local/lib/python3.7/dist-packages (from requests[socks]>=2.11.1->tweepy) (1.7.1)\n"
          ]
        }
      ]
    },
    {
      "cell_type": "code",
      "metadata": {
        "id": "8Qt-I-jV2k2e"
      },
      "source": [
        "import tweepy\n",
        "\n",
        "#트위터의 개인 앱 계정에서 아래 4가지 사항 확인\n",
        "consumer_key = \"\"\n",
        "consumer_secret = \"\"\n",
        "access_token = \"\"\n",
        "access_token_secret = \"\"\n",
        "\n",
        "\n",
        "#계정 승인\n",
        "auth = tweepy.OAuthHandler(consumer_key, consumer_secret)\n",
        "auth.set_access_token(access_token, access_token_secret)\n",
        "twitter_api = tweepy.API(auth)\n",
        "\n",
        "\n",
        "#검색 키워드 정의\n",
        "keyword = \"할매순대국\"\n",
        "api_result = []\n",
        "\n",
        "\n",
        "#키워드 검색 및 결과\n",
        "for i in range(1,3):\n",
        "  tweets = twitter_api.search(keyword)\n",
        "  for tweet in  tweets:\n",
        "    api_result.append(tweet.text)"
      ],
      "execution_count": 13,
      "outputs": []
    },
    {
      "cell_type": "code",
      "metadata": {
        "colab": {
          "base_uri": "https://localhost:8080/"
        },
        "id": "oo3z_PM65jRN",
        "outputId": "787d6e2f-c1d6-4fbb-96f5-df45ded0f6bc"
      },
      "source": [
        "print(len(api_result))\n",
        "print(api_result)"
      ],
      "execution_count": 14,
      "outputs": [
        {
          "output_type": "stream",
          "name": "stdout",
          "text": [
            "22\n",
            "['연수현미 철원참치집 강북바베큐장 대전서구열관리학원 틱틱 팝올 티이 인들 찬루 알텍 티포 초콩 팬수 이례 대이동스티커라벨지 영순면할매순대국배달 신상 봉곡동 나무가구 오성자동차 현관중문시공 인터넷가입회사\\n구글마케팅\\n홈페이지제작\\n바이럴마케팅전략\\n선팔', 'RT @fishandwater333: 어른돼서 나도 바깥에서 밥먹을때 뭐 회사에서는 수하동가도 내가 소주한잔 맘편하게 먹을수있는건 손큰할매순대국이다... 이런거랑 비슷한거라고... 시발 이렇게 또 남자를 먹을거에 비유하는 천박한 표현 사용했네', 'RT @fishandwater333: 어른돼서 나도 바깥에서 밥먹을때 뭐 회사에서는 수하동가도 내가 소주한잔 맘편하게 먹을수있는건 손큰할매순대국이다... 이런거랑 비슷한거라고... 시발 이렇게 또 남자를 먹을거에 비유하는 천박한 표현 사용했네', '어른돼서 나도 바깥에서 밥먹을때 뭐 회사에서는 수하동가도 내가 소주한잔 맘편하게 먹을수있는건 손큰할매순대국이다... 이런거랑 비슷한거라고... 시발 이렇게 또 남자를 먹을거에 비유하는 천박한 표현 사용했네', '@Cloud_of_spring 할매순대국 같은 곳에서 안만드는게 크지 않을까요', '큰맘할매같은? 순대 좋아해서 당면만 들은 순대국 별로 안좋아하는데 순대국 맛집 찾음 서울경기는 찹쌀순대만 나올때 있어가꾸 쫌 아쉬워...', '@kaitobreak_ 순대국은 체인점들도 잘하니..\\n전 주로 큰맘할매순대국서 특 시켜먹어유.,ㅎㅎㅅㅅ', 'ㅇㅋ 할매순대국 낙찰 https://t.co/OVCdLlLjbX', '그냥 도리벤 애들 큰맘할매순대국집으로 불러내서 얼큰버섯순대국 맥이고 이제 폭주족 그런거하지마라 하년 되는 거 아님?ㅋㅋ \\nㅈㅅㅎㄴㄷ', '대전잔 부천원미만국기 송도합성목재 청양세라믹제작 모쓰 도다 속령 격이 갱폼 넬라 슈검 나거 삼정 박포 도봉동이불커버제작 마리면요실금치료병원 강단 천판매 장난감샵 재워주실분 TVCF제작 할매순대국배달\\n네이버광고비용\\n바이럴명함\\n네이버광고비용\\n선팔', '오산통 구례스낵카 송도개인파산 성남중원반영구화장 현님 쓸돈 핑게 애라 폐차 쟁송 팬톰 앨더 톰앤 야둥 도고면쇼핑봉투제작 길음동3M장갑대리점 노브 진열장 에이프런 할매순대국 플라워꽃배달 LED조명설치\\n홍보문의\\n종합광고대행사\\n바이럴대행사\\nF4F', '연수현미 철원참치집 강북바베큐장 대전서구열관리학원 틱틱 팝올 티이 인들 찬루 알텍 티포 초콩 팬수 이례 대이동스티커라벨지 영순면할매순대국배달 신상 봉곡동 나무가구 오성자동차 현관중문시공 인터넷가입회사\\n구글마케팅\\n홈페이지제작\\n바이럴마케팅전략\\n선팔', 'RT @fishandwater333: 어른돼서 나도 바깥에서 밥먹을때 뭐 회사에서는 수하동가도 내가 소주한잔 맘편하게 먹을수있는건 손큰할매순대국이다... 이런거랑 비슷한거라고... 시발 이렇게 또 남자를 먹을거에 비유하는 천박한 표현 사용했네', 'RT @fishandwater333: 어른돼서 나도 바깥에서 밥먹을때 뭐 회사에서는 수하동가도 내가 소주한잔 맘편하게 먹을수있는건 손큰할매순대국이다... 이런거랑 비슷한거라고... 시발 이렇게 또 남자를 먹을거에 비유하는 천박한 표현 사용했네', '어른돼서 나도 바깥에서 밥먹을때 뭐 회사에서는 수하동가도 내가 소주한잔 맘편하게 먹을수있는건 손큰할매순대국이다... 이런거랑 비슷한거라고... 시발 이렇게 또 남자를 먹을거에 비유하는 천박한 표현 사용했네', '@Cloud_of_spring 할매순대국 같은 곳에서 안만드는게 크지 않을까요', '큰맘할매같은? 순대 좋아해서 당면만 들은 순대국 별로 안좋아하는데 순대국 맛집 찾음 서울경기는 찹쌀순대만 나올때 있어가꾸 쫌 아쉬워...', '@kaitobreak_ 순대국은 체인점들도 잘하니..\\n전 주로 큰맘할매순대국서 특 시켜먹어유.,ㅎㅎㅅㅅ', 'ㅇㅋ 할매순대국 낙찰 https://t.co/OVCdLlLjbX', '그냥 도리벤 애들 큰맘할매순대국집으로 불러내서 얼큰버섯순대국 맥이고 이제 폭주족 그런거하지마라 하년 되는 거 아님?ㅋㅋ \\nㅈㅅㅎㄴㄷ', '대전잔 부천원미만국기 송도합성목재 청양세라믹제작 모쓰 도다 속령 격이 갱폼 넬라 슈검 나거 삼정 박포 도봉동이불커버제작 마리면요실금치료병원 강단 천판매 장난감샵 재워주실분 TVCF제작 할매순대국배달\\n네이버광고비용\\n바이럴명함\\n네이버광고비용\\n선팔', '오산통 구례스낵카 송도개인파산 성남중원반영구화장 현님 쓸돈 핑게 애라 폐차 쟁송 팬톰 앨더 톰앤 야둥 도고면쇼핑봉투제작 길음동3M장갑대리점 노브 진열장 에이프런 할매순대국 플라워꽃배달 LED조명설치\\n홍보문의\\n종합광고대행사\\n바이럴대행사\\nF4F']\n"
          ]
        }
      ]
    },
    {
      "cell_type": "code",
      "metadata": {
        "colab": {
          "base_uri": "https://localhost:8080/",
          "height": 54
        },
        "id": "y75GP8_75Cqe",
        "outputId": "7c8fdade-0191-4f7b-d733-148b595b5881"
      },
      "source": [
        "tweet[3].text"
      ],
      "execution_count": 6,
      "outputs": [
        {
          "output_type": "execute_result",
          "data": {
            "application/vnd.google.colaboratory.intrinsic+json": {
              "type": "string"
            },
            "text/plain": [
              "'@sangeoowner 알고 친해졌음 좋겠어요 ㅠ쿨피스 노나먹고 치료받고 맥도날드 조졌으면 좋겟어요 그렇게 전우애 쌓고 친해지기 헤헤\\n,.. 로쿼야.. 우리로쿼 성격은 독하고 속물적이면서도 인간 좋아하고 가… https://t.co/JukDBVxr9h'"
            ]
          },
          "metadata": {},
          "execution_count": 6
        }
      ]
    },
    {
      "cell_type": "code",
      "metadata": {
        "id": "d9YzZ_bu4sfa"
      },
      "source": [
        "for tw in tweet:\n",
        "    api_result.append(tw.text) #텍스트 결과만 담기"
      ],
      "execution_count": null,
      "outputs": []
    }
  ]
}