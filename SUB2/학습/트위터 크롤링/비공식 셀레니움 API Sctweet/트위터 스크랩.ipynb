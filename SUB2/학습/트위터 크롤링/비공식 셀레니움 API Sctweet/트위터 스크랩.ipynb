{
 "cells": [
  {
   "cell_type": "code",
   "execution_count": 3,
   "id": "81c37048",
   "metadata": {},
   "outputs": [],
   "source": [
    "!pip install Scweet==1.6\n",
    "!pip install -r requirement.txt"
   ]
  },
  {
   "cell_type": "code",
   "execution_count": 1,
   "id": "cab167f4",
   "metadata": {},
   "outputs": [],
   "source": [
    "from Scweet.scweet import scrape\n",
    "from Scweet.user import get_user_information, get_users_following, get_users_followers\n",
    "import pandas as pd"
   ]
  },
  {
   "cell_type": "code",
   "execution_count": 2,
   "id": "68978c24",
   "metadata": {},
   "outputs": [],
   "source": [
    "stores = pd.read_csv(\"scweet용_가게정보.csv\");"
   ]
  },
  {
   "cell_type": "code",
   "execution_count": 3,
   "id": "7cf237b7",
   "metadata": {},
   "outputs": [
    {
     "data": {
      "text/html": [
       "<div>\n",
       "<style scoped>\n",
       "    .dataframe tbody tr th:only-of-type {\n",
       "        vertical-align: middle;\n",
       "    }\n",
       "\n",
       "    .dataframe tbody tr th {\n",
       "        vertical-align: top;\n",
       "    }\n",
       "\n",
       "    .dataframe thead th {\n",
       "        text-align: right;\n",
       "    }\n",
       "</style>\n",
       "<table border=\"1\" class=\"dataframe\">\n",
       "  <thead>\n",
       "    <tr style=\"text-align: right;\">\n",
       "      <th></th>\n",
       "      <th>Unnamed: 0</th>\n",
       "      <th>name</th>\n",
       "    </tr>\n",
       "  </thead>\n",
       "  <tbody>\n",
       "    <tr>\n",
       "      <th>0</th>\n",
       "      <td>274317</td>\n",
       "      <td>언양식당</td>\n",
       "    </tr>\n",
       "    <tr>\n",
       "      <th>1</th>\n",
       "      <td>274318</td>\n",
       "      <td>언양암소불고기</td>\n",
       "    </tr>\n",
       "    <tr>\n",
       "      <th>2</th>\n",
       "      <td>274319</td>\n",
       "      <td>언양암소숯불갈비</td>\n",
       "    </tr>\n",
       "    <tr>\n",
       "      <th>3</th>\n",
       "      <td>274320</td>\n",
       "      <td>언양양조장</td>\n",
       "    </tr>\n",
       "    <tr>\n",
       "      <th>4</th>\n",
       "      <td>274321</td>\n",
       "      <td>언양우하하불고기</td>\n",
       "    </tr>\n",
       "  </tbody>\n",
       "</table>\n",
       "</div>"
      ],
      "text/plain": [
       "   Unnamed: 0      name\n",
       "0      274317      언양식당\n",
       "1      274318   언양암소불고기\n",
       "2      274319  언양암소숯불갈비\n",
       "3      274320     언양양조장\n",
       "4      274321  언양우하하불고기"
      ]
     },
     "execution_count": 3,
     "metadata": {},
     "output_type": "execute_result"
    }
   ],
   "source": [
    "stores.head()"
   ]
  },
  {
   "cell_type": "code",
   "execution_count": null,
   "id": "1f2ab5fe",
   "metadata": {},
   "outputs": [],
   "source": [
    "for index, row in stores.iterrows():\n",
    "    # scrape top tweets with the words 'covid','covid19' in proximity and without replies.\n",
    "    # the process is slower as the interval is smaller (choose an interval that can divide the period of time betwee, start and max date)\n",
    "    data = scrape(words=[row['name']], since=\"2021-08-01\", until=\"2021-08-31\", from_account = None,interval=3, \n",
    "          headless=True, display_type=\"Top\", save_images=False, proxy = None, save_dir = 'outputs',\n",
    "                 resume=False, filter_replies=True, proximity=False)"
   ]
  }
 ],
 "metadata": {
  "kernelspec": {
   "display_name": "Python 3",
   "language": "python",
   "name": "python3"
  },
  "language_info": {
   "codemirror_mode": {
    "name": "ipython",
    "version": 3
   },
   "file_extension": ".py",
   "mimetype": "text/x-python",
   "name": "python",
   "nbconvert_exporter": "python",
   "pygments_lexer": "ipython3",
   "version": "3.8.8"
  }
 },
 "nbformat": 4,
 "nbformat_minor": 5
}
