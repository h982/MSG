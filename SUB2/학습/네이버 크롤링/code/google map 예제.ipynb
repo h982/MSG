{
 "cells": [
  {
   "cell_type": "code",
   "execution_count": 29,
   "metadata": {
    "scrolled": true
   },
   "outputs": [],
   "source": [
    "from selenium import webdriver\n",
    "driver = webdriver.Chrome(\"C:/Users/default.DESKTOP-FVT3076/Desktop/crawl/chromedriver.exe\")\n",
    "#London Victoria & Albert Museum URL\n",
    "url = 'https://www.google.com/maps/place/24%EC%8B%9C+%EC%A0%84%EC%A3%BC%EB%AA%85%EA%B0%80%EC%BD%A9%EB%82%98%EB%AC%BC%EA%B5%AD%EB%B0%A5+%EC%96%91%EC%82%B0%EC%A0%90/@35.3389164,129.0265622,17z/data=!3m1!4b1!4m5!3m4!1s0x3568978268621293:0x627b62e7d86f9436!8m2!3d35.338912!4d129.0287509'\n",
    "driver.get(url)"
   ]
  },
  {
   "cell_type": "code",
   "execution_count": 22,
   "metadata": {
    "scrolled": true
   },
   "outputs": [],
   "source": [
    "from selenium.webdriver.common.by import By\n",
    "\n",
    "try:\n",
    "    driver.find_element(By.CLASS_NAME, \"widget-pane-link\").click()\n",
    "except Exception:\n",
    "    response = BeautifulSoup(driver.page_source, 'html.parser')\n",
    "    # Check if there are any paid ads and avoid them\n",
    "    if response.find_all('span', {'class': 'ARktye-badge'}):\n",
    "        ad_count = len(response.find_all('span', {'class': 'ARktye-badge'}))\n",
    "        li = driver.find_elements(By.CLASS_NAME, \"a4gq8e-aVTXAb-haAclf-jRmmHf-hSRGPd\")\n",
    "        li[ad_count].click()\n",
    "    else:\n",
    "        driver.find_element(By.CLASS_NAME, \"a4gq8e-aVTXAb-haAclf-jRmmHf-hSRGPd\").click()\n",
    "        time.sleep(5)\n",
    "    driver.find_element(By.CLASS_NAME, \"widget-pane-link\").click()"
   ]
  },
  {
   "cell_type": "code",
   "execution_count": 26,
   "metadata": {},
   "outputs": [
    {
     "name": "stdout",
     "output_type": "stream",
     "text": [
      "128\n"
     ]
    }
   ],
   "source": [
    "#Find the total number of reviews\n",
    "total_number_of_reviews = driver.find_element_by_xpath('//*[@id=\"pane\"]/div/div[1]/div/div/div[2]/div[2]/div/div[2]/div[2]').text.split(\" \")[1][:-1]\n",
    "print(total_number_of_reviews)\n",
    "total_number_of_reviews = int(total_number_of_reviews.replace(',','')) if ',' in total_number_of_reviews else int(total_number_of_reviews)\n",
    "#Find scroll layout\n",
    "scrollable_div = driver.find_element_by_xpath('//*[@id=\"pane\"]/div/div[1]/div/div/div[2]')\n",
    "#Scroll as many times as necessary to load all reviews\n",
    "for i in range(0,(round(total_number_of_reviews/10 - 1))):\n",
    "        driver.execute_script('arguments[0].scrollTop = arguments[0].scrollHeight', \n",
    "                scrollable_div)\n",
    "        time.sleep(1)"
   ]
  },
  {
   "cell_type": "code",
   "execution_count": 27,
   "metadata": {},
   "outputs": [],
   "source": [
    "def get_review_summary(result_set):\n",
    "    rev_dict = {'Review Rate': [],\n",
    "        'Review Time': [],\n",
    "        'Review Text' : []}\n",
    "    for result in result_set:\n",
    "        review_rate = result.find('span', class_='ODSEW-ShBeI-H1e3jb')[\"aria-label\"]\n",
    "        review_time = result.find('span',class_='ODSEW-ShBeI-RgZmSc-date').text\n",
    "        review_text = result.find('span',class_='ODSEW-ShBeI-text').text\n",
    "        rev_dict['Review Rate'].append(review_rate)\n",
    "        rev_dict['Review Time'].append(review_time)\n",
    "        rev_dict['Review Text'].append(review_text)\n",
    "    import pandas as pd    \n",
    "    return(pd.DataFrame(rev_dict))"
   ]
  },
  {
   "cell_type": "code",
   "execution_count": 28,
   "metadata": {
    "scrolled": true
   },
   "outputs": [
    {
     "name": "stdout",
     "output_type": "stream",
     "text": [
      "   Review Rate Review Time                                        Review Text\n",
      "0       별표 3개         1년 전  가격대비 괜찮은 곳입니다\\n일 때문에 전주에 자주 내려가는데 전주의 콩나물 국밥은 ...\n",
      "1       별표 4개         2달 전  첨엔 국물이 맑더니 계속 지저분한 빨강으로나옴\\n전에 물어보니 월래그렇다는데\\n저의...\n",
      "2       별표 5개         3주 전                       3년째야근근무하고.자주갑니다.김치콩나물국밥에.파전굿\n",
      "3       별표 4개         3달 전                         콩나물해장국은 맛있서나 깟두기맛이 안좋아서요^^\n",
      "4       별표 5개         1달 전                                    얼큰하고 맛나게 잘 먹었네요\n",
      "5       별표 5개         1년 전  24시간영업, 저렴한가격에 맛또한   죽임\\n해장엔 김치콩나물국밥인데  너무맛나서 ...\n",
      "6       별표 5개         1년 전  자주 가는집인데 가격도 착하고 맛도 좋아요 다른 메뉴는 아직 못먹어 봤지만, 콩나물...\n",
      "7       별표 4개        11달 전            재료 아낌없이 줘서 좋고 가성비 좋아요 자주 가는 곳..김치콩나물 추천\n",
      "8       별표 5개         1년 전  늘 찾는 곳이라 맛있어요. 주차공간이 확보되지 않아 찾아 다녀야하는 수고로움은 있지...\n",
      "9       별표 5개         1년 전                                         친절하고 맛있습니다\n",
      "10      별표 4개        11달 전                                      빠르게 나오는 국밥입니다\n",
      "11      별표 3개         3년 전  가격도저렴하고 맛도좋아요.그런데 메뉴에 콩나물국밥은 있는데 상호가\\n달라졌네요, 양...\n",
      "12      별표 2개         1년 전                  메뉴 고르는데 빨리 고르라고..ㅡㅡ\\n자기 동선에 방해되나봄\n",
      "13      별표 5개         1년 전                   양산맛집~ 콩나물국밥 이렇게 저렴하고 맛있는 집 잘 없어요\n",
      "14      별표 1개         1년 전  맛은 그저 콩나물국밥\\n불편하기 짝이 없는 컵과접시 더미들\\n이것은 분명 손님을 무...\n",
      "15      별표 4개         1년 전                   시원하고 맛도 괜찮은데 사람이 많아 기다릴때가 종종 있다.\n",
      "16      별표 2개        10달 전                               그냥 보통으로 요기 할수있는 곳입니다\n",
      "17      별표 5개         1년 전                               맛있어요 요즘 깍두기가 맛없어져서;;\n",
      "18      별표 5개         1년 전                            맛도 괜찮고  가격도  저렴하게  괜찮아요\n",
      "19      별표 5개         1년 전                        단골로가는 집~~김치공나물국밥 해장용으로추천~^^\n",
      "20      별표 3개         3년 전     24시간 영업집 입니다\\n얼마전  간판이  달라졌음\\n콩나물 국밥은 같이  있습니다\n",
      "21      별표 4개         1년 전                                      가격도 괜찮고 맛있었어요\n",
      "22      별표 5개         1년 전                                 싸고 맛있음,   아침식사로 좋음\n",
      "23      별표 4개         1년 전                                      저렴하면서  먹을만하네요\n",
      "24      별표 5개         1년 전                                      가격대비  맛  최고에요\n",
      "25      별표 3개         1년 전                           여긴사람들이너무많아요그돈다벌어서뭐할껀지!!!\n",
      "26      별표 4개         1년 전                                         가격이 깡패야 좋아\n",
      "27      별표 4개         3달 전                                          가성비 좋은 맛집\n",
      "28      별표 5개         3달 전                                        조아요 조아요 조아요\n",
      "29      별표 4개         3년 전                                저렴한 가격의 콩나물국밥이 맛있다.\n",
      "30      별표 4개         1년 전                                         4000원 저렴해요\n",
      "31      별표 4개         1년 전                                           숙치해소로좋아요\n",
      "32      별표 3개         1년 전                                         대기업맛이 많이 남\n",
      "33      별표 2개         1년 전                                        반찬이 너무  없어요\n",
      "34      별표 4개        11달 전                                            가성비 좋아요\n",
      "35      별표 3개         1년 전                                           24시.저렴..\n",
      "36      별표 5개         1년 전                                     위치추적은 누가하는데???\n",
      "37      별표 3개         6달 전                                              만족합니다\n",
      "38      별표 4개        11달 전                                                좋아요\n",
      "39      별표 4개         1년 전                                               맛나요.\n",
      "40      별표 5개         1년 전                                           여기 정말 맛남\n",
      "41      별표 5개         2년 전                                              너무맜있엉\n",
      "42      별표 4개         1년 전                                              가성비 굳\n",
      "43      별표 5개         1년 전                                              전콩국 짱\n",
      "44      별표 5개         1년 전                                                맛잇음\n",
      "45      별표 5개        11달 전                                                맛남.\n",
      "46      별표 1개        11달 전                                              콩나물국밥\n",
      "47      별표 3개         1년 전                                                가성비\n",
      "48      별표 3개         2년 전                                              콩나물국밥\n",
      "49      별표 5개         3주 전                                                   \n",
      "50      별표 3개       13시간 전                                                   \n",
      "51      별표 4개         2달 전                                                   \n",
      "52      별표 3개         2달 전                                                   \n",
      "53      별표 3개         1달 전                                                   \n",
      "54      별표 4개         3달 전                                                   \n",
      "55      별표 3개         3주 전                                                   \n",
      "56      별표 3개         3달 전                                                   \n",
      "57      별표 4개         3달 전                                                   \n",
      "58      별표 5개         2달 전                                                   \n",
      "59      별표 5개         2달 전                                                   \n"
     ]
    }
   ],
   "source": [
    "response = BeautifulSoup(driver.page_source, 'html.parser')\n",
    "reviews = response.find_all('div', class_='ODSEW-ShBeI NIyLF-haAclf gm2-body-2')\n",
    "res = get_review_summary(reviews)\n",
    "print(res)"
   ]
  }
 ],
 "metadata": {
  "kernelspec": {
   "display_name": "Python 3",
   "language": "python",
   "name": "python3"
  },
  "language_info": {
   "codemirror_mode": {
    "name": "ipython",
    "version": 3
   },
   "file_extension": ".py",
   "mimetype": "text/x-python",
   "name": "python",
   "nbconvert_exporter": "python",
   "pygments_lexer": "ipython3",
   "version": "3.7.6"
  }
 },
 "nbformat": 4,
 "nbformat_minor": 4
}
