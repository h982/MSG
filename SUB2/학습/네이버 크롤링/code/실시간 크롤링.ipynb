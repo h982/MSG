{
 "cells": [
  {
   "cell_type": "code",
   "execution_count": null,
   "metadata": {
    "scrolled": true
   },
   "outputs": [],
   "source": [
    "!pip install selenium\n",
    "!pip install ijson\n",
    "!pip install dataframe"
   ]
  },
  {
   "cell_type": "code",
   "execution_count": 1,
   "metadata": {},
   "outputs": [],
   "source": [
    "from selenium import webdriver\n",
    "from selenium.webdriver.common.keys import Keys\n",
    "from selenium.webdriver.support.ui import WebDriverWait\n",
    "from selenium.webdriver.support import expected_conditions as EC\n",
    "from selenium.common.exceptions import TimeoutException\n",
    "from selenium.common.exceptions import NoSuchElementException\n",
    "from selenium.webdriver.chrome.options import Options \n",
    "from selenium.webdriver.common.by import By\n",
    "from selenium.webdriver.support.ui import Select\n",
    "import dataframe as df\n",
    "import numpy as np\n",
    "import time\n",
    "\n",
    "#options = Options()\n",
    "#options.binary_location = 'C:/Program Files (x86)/Google/Chrome/Application/chrome.exe'\n",
    "chromedriver='C:/Users/default.DESKTOP-FVT3076/Desktop/crawl/chromedriver.exe'\n",
    "#chromedriver = 'C:/Program Files (x86)/Google/Chrome/Application/chrome.exe'\n",
    "driver = webdriver.Chrome(chromedriver)\n",
    "time.sleep(2)"
   ]
  },
  {
   "cell_type": "code",
   "execution_count": 15,
   "metadata": {
    "scrolled": true
   },
   "outputs": [
    {
     "ename": "NoSuchElementException",
     "evalue": "Message: no such element: Unable to locate element: {\"method\":\"css selector\",\"selector\":\"#content > section > div.area_list_search > div:nth-child(1) > div > div.info_post > div.desc > a.desc_inner\"}\n  (Session info: chrome=93.0.4577.63)\n",
     "output_type": "error",
     "traceback": [
      "\u001b[1;31m---------------------------------------------------------------------------\u001b[0m",
      "\u001b[1;31mNoSuchElementException\u001b[0m                    Traceback (most recent call last)",
      "\u001b[1;32m<ipython-input-15-c29c01527f9b>\u001b[0m in \u001b[0;36m<module>\u001b[1;34m\u001b[0m\n\u001b[0;32m     19\u001b[0m \u001b[1;31m# title = driver.find_element_by_css_selector(\"#content > _pcmap_list_scroll_container > ul > li:nth-child(1) > div.Ow5Yt > a:nth-child(1) > div._1z7ih > div > span\").text\u001b[0m\u001b[1;33m\u001b[0m\u001b[1;33m\u001b[0m\u001b[1;33m\u001b[0m\u001b[0m\n\u001b[0;32m     20\u001b[0m \u001b[1;31m# title = driver.find_element_by_css_selector(\"#app-root > div > div > div.place_detail_wrapper > div:nth-child(5) > div > div.place_section._2Sq-S > div:nth-child(2) > ul > li:nth-child(1) > div > div > div._3AAjR > a > span\").text\u001b[0m\u001b[1;33m\u001b[0m\u001b[1;33m\u001b[0m\u001b[1;33m\u001b[0m\u001b[0m\n\u001b[1;32m---> 21\u001b[1;33m \u001b[0mtitle\u001b[0m \u001b[1;33m=\u001b[0m \u001b[0mdriver\u001b[0m\u001b[1;33m.\u001b[0m\u001b[0mfind_element_by_css_selector\u001b[0m\u001b[1;33m(\u001b[0m\u001b[1;34m\"#content > section > div.area_list_search > div:nth-child(1) > div > div.info_post > div.desc > a.desc_inner\"\u001b[0m\u001b[1;33m)\u001b[0m\u001b[1;33m.\u001b[0m\u001b[0mtext\u001b[0m\u001b[1;33m\u001b[0m\u001b[1;33m\u001b[0m\u001b[0m\n\u001b[0m\u001b[0;32m     22\u001b[0m \u001b[0mprint\u001b[0m\u001b[1;33m(\u001b[0m\u001b[0mtitle\u001b[0m\u001b[1;33m)\u001b[0m\u001b[1;33m\u001b[0m\u001b[1;33m\u001b[0m\u001b[0m\n",
      "\u001b[1;32m~\\anaconda3\\lib\\site-packages\\selenium\\webdriver\\remote\\webdriver.py\u001b[0m in \u001b[0;36mfind_element_by_css_selector\u001b[1;34m(self, css_selector)\u001b[0m\n\u001b[0;32m    596\u001b[0m             \u001b[0melement\u001b[0m \u001b[1;33m=\u001b[0m \u001b[0mdriver\u001b[0m\u001b[1;33m.\u001b[0m\u001b[0mfind_element_by_css_selector\u001b[0m\u001b[1;33m(\u001b[0m\u001b[1;34m'#foo'\u001b[0m\u001b[1;33m)\u001b[0m\u001b[1;33m\u001b[0m\u001b[1;33m\u001b[0m\u001b[0m\n\u001b[0;32m    597\u001b[0m         \"\"\"\n\u001b[1;32m--> 598\u001b[1;33m         \u001b[1;32mreturn\u001b[0m \u001b[0mself\u001b[0m\u001b[1;33m.\u001b[0m\u001b[0mfind_element\u001b[0m\u001b[1;33m(\u001b[0m\u001b[0mby\u001b[0m\u001b[1;33m=\u001b[0m\u001b[0mBy\u001b[0m\u001b[1;33m.\u001b[0m\u001b[0mCSS_SELECTOR\u001b[0m\u001b[1;33m,\u001b[0m \u001b[0mvalue\u001b[0m\u001b[1;33m=\u001b[0m\u001b[0mcss_selector\u001b[0m\u001b[1;33m)\u001b[0m\u001b[1;33m\u001b[0m\u001b[1;33m\u001b[0m\u001b[0m\n\u001b[0m\u001b[0;32m    599\u001b[0m \u001b[1;33m\u001b[0m\u001b[0m\n\u001b[0;32m    600\u001b[0m     \u001b[1;32mdef\u001b[0m \u001b[0mfind_elements_by_css_selector\u001b[0m\u001b[1;33m(\u001b[0m\u001b[0mself\u001b[0m\u001b[1;33m,\u001b[0m \u001b[0mcss_selector\u001b[0m\u001b[1;33m)\u001b[0m\u001b[1;33m:\u001b[0m\u001b[1;33m\u001b[0m\u001b[1;33m\u001b[0m\u001b[0m\n",
      "\u001b[1;32m~\\anaconda3\\lib\\site-packages\\selenium\\webdriver\\remote\\webdriver.py\u001b[0m in \u001b[0;36mfind_element\u001b[1;34m(self, by, value)\u001b[0m\n\u001b[0;32m    976\u001b[0m         return self.execute(Command.FIND_ELEMENT, {\n\u001b[0;32m    977\u001b[0m             \u001b[1;34m'using'\u001b[0m\u001b[1;33m:\u001b[0m \u001b[0mby\u001b[0m\u001b[1;33m,\u001b[0m\u001b[1;33m\u001b[0m\u001b[1;33m\u001b[0m\u001b[0m\n\u001b[1;32m--> 978\u001b[1;33m             'value': value})['value']\n\u001b[0m\u001b[0;32m    979\u001b[0m \u001b[1;33m\u001b[0m\u001b[0m\n\u001b[0;32m    980\u001b[0m     \u001b[1;32mdef\u001b[0m \u001b[0mfind_elements\u001b[0m\u001b[1;33m(\u001b[0m\u001b[0mself\u001b[0m\u001b[1;33m,\u001b[0m \u001b[0mby\u001b[0m\u001b[1;33m=\u001b[0m\u001b[0mBy\u001b[0m\u001b[1;33m.\u001b[0m\u001b[0mID\u001b[0m\u001b[1;33m,\u001b[0m \u001b[0mvalue\u001b[0m\u001b[1;33m=\u001b[0m\u001b[1;32mNone\u001b[0m\u001b[1;33m)\u001b[0m\u001b[1;33m:\u001b[0m\u001b[1;33m\u001b[0m\u001b[1;33m\u001b[0m\u001b[0m\n",
      "\u001b[1;32m~\\anaconda3\\lib\\site-packages\\selenium\\webdriver\\remote\\webdriver.py\u001b[0m in \u001b[0;36mexecute\u001b[1;34m(self, driver_command, params)\u001b[0m\n\u001b[0;32m    319\u001b[0m         \u001b[0mresponse\u001b[0m \u001b[1;33m=\u001b[0m \u001b[0mself\u001b[0m\u001b[1;33m.\u001b[0m\u001b[0mcommand_executor\u001b[0m\u001b[1;33m.\u001b[0m\u001b[0mexecute\u001b[0m\u001b[1;33m(\u001b[0m\u001b[0mdriver_command\u001b[0m\u001b[1;33m,\u001b[0m \u001b[0mparams\u001b[0m\u001b[1;33m)\u001b[0m\u001b[1;33m\u001b[0m\u001b[1;33m\u001b[0m\u001b[0m\n\u001b[0;32m    320\u001b[0m         \u001b[1;32mif\u001b[0m \u001b[0mresponse\u001b[0m\u001b[1;33m:\u001b[0m\u001b[1;33m\u001b[0m\u001b[1;33m\u001b[0m\u001b[0m\n\u001b[1;32m--> 321\u001b[1;33m             \u001b[0mself\u001b[0m\u001b[1;33m.\u001b[0m\u001b[0merror_handler\u001b[0m\u001b[1;33m.\u001b[0m\u001b[0mcheck_response\u001b[0m\u001b[1;33m(\u001b[0m\u001b[0mresponse\u001b[0m\u001b[1;33m)\u001b[0m\u001b[1;33m\u001b[0m\u001b[1;33m\u001b[0m\u001b[0m\n\u001b[0m\u001b[0;32m    322\u001b[0m             response['value'] = self._unwrap_value(\n\u001b[0;32m    323\u001b[0m                 response.get('value', None))\n",
      "\u001b[1;32m~\\anaconda3\\lib\\site-packages\\selenium\\webdriver\\remote\\errorhandler.py\u001b[0m in \u001b[0;36mcheck_response\u001b[1;34m(self, response)\u001b[0m\n\u001b[0;32m    240\u001b[0m                 \u001b[0malert_text\u001b[0m \u001b[1;33m=\u001b[0m \u001b[0mvalue\u001b[0m\u001b[1;33m[\u001b[0m\u001b[1;34m'alert'\u001b[0m\u001b[1;33m]\u001b[0m\u001b[1;33m.\u001b[0m\u001b[0mget\u001b[0m\u001b[1;33m(\u001b[0m\u001b[1;34m'text'\u001b[0m\u001b[1;33m)\u001b[0m\u001b[1;33m\u001b[0m\u001b[1;33m\u001b[0m\u001b[0m\n\u001b[0;32m    241\u001b[0m             \u001b[1;32mraise\u001b[0m \u001b[0mexception_class\u001b[0m\u001b[1;33m(\u001b[0m\u001b[0mmessage\u001b[0m\u001b[1;33m,\u001b[0m \u001b[0mscreen\u001b[0m\u001b[1;33m,\u001b[0m \u001b[0mstacktrace\u001b[0m\u001b[1;33m,\u001b[0m \u001b[0malert_text\u001b[0m\u001b[1;33m)\u001b[0m\u001b[1;33m\u001b[0m\u001b[1;33m\u001b[0m\u001b[0m\n\u001b[1;32m--> 242\u001b[1;33m         \u001b[1;32mraise\u001b[0m \u001b[0mexception_class\u001b[0m\u001b[1;33m(\u001b[0m\u001b[0mmessage\u001b[0m\u001b[1;33m,\u001b[0m \u001b[0mscreen\u001b[0m\u001b[1;33m,\u001b[0m \u001b[0mstacktrace\u001b[0m\u001b[1;33m)\u001b[0m\u001b[1;33m\u001b[0m\u001b[1;33m\u001b[0m\u001b[0m\n\u001b[0m\u001b[0;32m    243\u001b[0m \u001b[1;33m\u001b[0m\u001b[0m\n\u001b[0;32m    244\u001b[0m     \u001b[1;32mdef\u001b[0m \u001b[0m_value_or_default\u001b[0m\u001b[1;33m(\u001b[0m\u001b[0mself\u001b[0m\u001b[1;33m,\u001b[0m \u001b[0mobj\u001b[0m\u001b[1;33m,\u001b[0m \u001b[0mkey\u001b[0m\u001b[1;33m,\u001b[0m \u001b[0mdefault\u001b[0m\u001b[1;33m)\u001b[0m\u001b[1;33m:\u001b[0m\u001b[1;33m\u001b[0m\u001b[1;33m\u001b[0m\u001b[0m\n",
      "\u001b[1;31mNoSuchElementException\u001b[0m: Message: no such element: Unable to locate element: {\"method\":\"css selector\",\"selector\":\"#content > section > div.area_list_search > div:nth-child(1) > div > div.info_post > div.desc > a.desc_inner\"}\n  (Session info: chrome=93.0.4577.63)\n"
     ]
    }
   ],
   "source": [
    "# 드라이버가 들어갈 웹사이트 url을 넣는다.\n",
    "\n",
    "# driver.get(\"https://map.naver.com/v5/search/%EC%9E%90%EC%9E%A5%EB%A9%B4/place/36137945?c=14151526.7910198,4278188.1479234,15,0,0,0,dh&placePath=%3Fentry%253Dbmp\")  \n",
    "driver.get(\"https://section.blog.naver.com/Search/Post.naver?pageNo=1&rangeType=ALL&orderBy=sim&keyword=%EC%9D%B4%EB%B9%84%EA%B0%80%EC%A7%AC%EB%BD%95%20%EB%8D%95%EC%A7%84%EC%A0%90\")\n",
    "#_pcmap_list_scroll_container > ul > li:nth-child(1) > div.Ow5Yt > a:nth-child(1) > div._1z7ih > div > span\n",
    "# 복사해둔 셀렉터는 아래와 같다\n",
    "\n",
    "'''\n",
    "#_pcmap_list_scroll_container > ul > li:nth-child(1) > div.Ow5Yt > a:nth-child(1) > div._1z7ih > div > span\n",
    "#app-root > div > div > div.place_detail_wrapper > div:nth-child(5) > div > div.place_section._2Sq-S > div:nth-child(2) > ul > li:nth-child(1) > div > div > div._3AAjR > a\n",
    "'''\n",
    "\n",
    "# 이를 .text 를 통해 가져온다\n",
    "# search_box = driver.find_element_by_xpath('//*[@id=\"app-root\"]/div/div/div[2]/div[5]/div/div[6]/div[1]/ul/li[1]/div/div/div[2]/a')\n",
    "# print(search_box)\n",
    "# title = driver.find_element_by_css_selector(\"#content > _pcmap_list_scroll_container > ul > li:nth-child(1) > div.Ow5Yt > a:nth-child(1) > div._1z7ih > div > span\").text\n",
    "# title = driver.find_element_by_css_selector(\"#app-root > div > div > div.place_detail_wrapper > div:nth-child(5) > div > div.place_section._2Sq-S > div:nth-child(2) > ul > li:nth-child(1) > div > div > div._3AAjR > a > span\").text\n",
    "title = driver.find_element_by_css_selector(\"#content > section > div.area_list_search > div:nth-child(1) > div > div.info_post > div.desc > a.desc_inner\").text\n",
    "print(title)"
   ]
  },
  {
   "cell_type": "code",
   "execution_count": 3,
   "metadata": {},
   "outputs": [
    {
     "name": "stdout",
     "output_type": "stream",
     "text": [
      "유희관 아홉수가 안타까운 사령탑 \"제발 5회만 막길 바랐다\" [MK현장]\n"
     ]
    }
   ],
   "source": [
    "# 드라이버가 들어갈 웹사이트 url을 넣는다.\n",
    "\n",
    "driver.get(\"https://sports.news.naver.com/kbaseball/index.nhn\")  \n",
    "\n",
    "\n",
    "# 복사해둔 셀렉터는 아래와 같다\n",
    "\n",
    "'''\n",
    "#content > div > div.home_grid.home_grid2 > div.content > div.home_article > div.home_news > ul:nth-child(2) > li:nth-child(1) > a > span\n",
    "'''\n",
    "\n",
    "# 이를 .text 를 통해 가져온다\n",
    "\n",
    "title = driver.find_element_by_css_selector(\"#content > div > div.home_grid.home_grid2 > div.content > div.home_article > div.home_news > ul:nth-child(2) > li:nth-child(1) > a > span\").text\n",
    "print(title)"
   ]
  },
  {
   "cell_type": "code",
   "execution_count": 4,
   "metadata": {
    "scrolled": true
   },
   "outputs": [
    {
     "ename": "InvalidSelectorException",
     "evalue": "Message: invalid selector: The result of the xpath expression \"//*[@id=\"sp_blog_3\"]/div/div/div[2]/div/a/div/text()[2]\" is: [object Text]. It should be an element.\n  (Session info: chrome=93.0.4577.63)\n",
     "output_type": "error",
     "traceback": [
      "\u001b[1;31m---------------------------------------------------------------------------\u001b[0m",
      "\u001b[1;31mInvalidSelectorException\u001b[0m                  Traceback (most recent call last)",
      "\u001b[1;32m<ipython-input-4-62fdb602899e>\u001b[0m in \u001b[0;36m<module>\u001b[1;34m\u001b[0m\n\u001b[0;32m      1\u001b[0m \u001b[0mdriver\u001b[0m\u001b[1;33m.\u001b[0m\u001b[0mget\u001b[0m\u001b[1;33m(\u001b[0m\u001b[1;34m\"https://search.naver.com/search.naver?query=%EB%A7%A5%EB%8F%84%EB%82%A0%EB%93%9C%20%EB%8D%95%EC%A7%84%EC%A0%90&nso=&where=blog&sm=tab_opt\"\u001b[0m\u001b[1;33m)\u001b[0m\u001b[1;33m\u001b[0m\u001b[1;33m\u001b[0m\u001b[0m\n\u001b[0;32m      2\u001b[0m \u001b[1;33m\u001b[0m\u001b[0m\n\u001b[1;32m----> 3\u001b[1;33m \u001b[0msearch_box\u001b[0m \u001b[1;33m=\u001b[0m \u001b[0mdriver\u001b[0m\u001b[1;33m.\u001b[0m\u001b[0mfind_element_by_xpath\u001b[0m\u001b[1;33m(\u001b[0m\u001b[1;34m'//*[@id=\"sp_blog_3\"]/div/div/div[2]/div/a/div/text()[2]'\u001b[0m\u001b[1;33m)\u001b[0m\u001b[1;33m\u001b[0m\u001b[1;33m\u001b[0m\u001b[0m\n\u001b[0m\u001b[0;32m      4\u001b[0m \u001b[0msearch_box\u001b[0m\u001b[1;33m.\u001b[0m\u001b[0msend_keys\u001b[0m\u001b[1;33m(\u001b[0m\u001b[1;34m'매장'\u001b[0m\u001b[1;33m)\u001b[0m\u001b[1;33m\u001b[0m\u001b[1;33m\u001b[0m\u001b[0m\n\u001b[0;32m      5\u001b[0m \u001b[0msearch_date\u001b[0m \u001b[1;33m=\u001b[0m \u001b[0mdriver\u001b[0m\u001b[1;33m.\u001b[0m\u001b[0mfind_element_by_xpath\u001b[0m\u001b[1;33m(\u001b[0m\u001b[1;34m'//*[@id=\"setMonth1_1\"]'\u001b[0m\u001b[1;33m)\u001b[0m\u001b[1;33m.\u001b[0m\u001b[0mclick\u001b[0m\u001b[1;33m(\u001b[0m\u001b[1;33m)\u001b[0m\u001b[1;33m\u001b[0m\u001b[1;33m\u001b[0m\u001b[0m\n",
      "\u001b[1;32m~\\anaconda3\\lib\\site-packages\\selenium\\webdriver\\remote\\webdriver.py\u001b[0m in \u001b[0;36mfind_element_by_xpath\u001b[1;34m(self, xpath)\u001b[0m\n\u001b[0;32m    392\u001b[0m             \u001b[0melement\u001b[0m \u001b[1;33m=\u001b[0m \u001b[0mdriver\u001b[0m\u001b[1;33m.\u001b[0m\u001b[0mfind_element_by_xpath\u001b[0m\u001b[1;33m(\u001b[0m\u001b[1;34m'//div/td[1]'\u001b[0m\u001b[1;33m)\u001b[0m\u001b[1;33m\u001b[0m\u001b[1;33m\u001b[0m\u001b[0m\n\u001b[0;32m    393\u001b[0m         \"\"\"\n\u001b[1;32m--> 394\u001b[1;33m         \u001b[1;32mreturn\u001b[0m \u001b[0mself\u001b[0m\u001b[1;33m.\u001b[0m\u001b[0mfind_element\u001b[0m\u001b[1;33m(\u001b[0m\u001b[0mby\u001b[0m\u001b[1;33m=\u001b[0m\u001b[0mBy\u001b[0m\u001b[1;33m.\u001b[0m\u001b[0mXPATH\u001b[0m\u001b[1;33m,\u001b[0m \u001b[0mvalue\u001b[0m\u001b[1;33m=\u001b[0m\u001b[0mxpath\u001b[0m\u001b[1;33m)\u001b[0m\u001b[1;33m\u001b[0m\u001b[1;33m\u001b[0m\u001b[0m\n\u001b[0m\u001b[0;32m    395\u001b[0m \u001b[1;33m\u001b[0m\u001b[0m\n\u001b[0;32m    396\u001b[0m     \u001b[1;32mdef\u001b[0m \u001b[0mfind_elements_by_xpath\u001b[0m\u001b[1;33m(\u001b[0m\u001b[0mself\u001b[0m\u001b[1;33m,\u001b[0m \u001b[0mxpath\u001b[0m\u001b[1;33m)\u001b[0m\u001b[1;33m:\u001b[0m\u001b[1;33m\u001b[0m\u001b[1;33m\u001b[0m\u001b[0m\n",
      "\u001b[1;32m~\\anaconda3\\lib\\site-packages\\selenium\\webdriver\\remote\\webdriver.py\u001b[0m in \u001b[0;36mfind_element\u001b[1;34m(self, by, value)\u001b[0m\n\u001b[0;32m    976\u001b[0m         return self.execute(Command.FIND_ELEMENT, {\n\u001b[0;32m    977\u001b[0m             \u001b[1;34m'using'\u001b[0m\u001b[1;33m:\u001b[0m \u001b[0mby\u001b[0m\u001b[1;33m,\u001b[0m\u001b[1;33m\u001b[0m\u001b[1;33m\u001b[0m\u001b[0m\n\u001b[1;32m--> 978\u001b[1;33m             'value': value})['value']\n\u001b[0m\u001b[0;32m    979\u001b[0m \u001b[1;33m\u001b[0m\u001b[0m\n\u001b[0;32m    980\u001b[0m     \u001b[1;32mdef\u001b[0m \u001b[0mfind_elements\u001b[0m\u001b[1;33m(\u001b[0m\u001b[0mself\u001b[0m\u001b[1;33m,\u001b[0m \u001b[0mby\u001b[0m\u001b[1;33m=\u001b[0m\u001b[0mBy\u001b[0m\u001b[1;33m.\u001b[0m\u001b[0mID\u001b[0m\u001b[1;33m,\u001b[0m \u001b[0mvalue\u001b[0m\u001b[1;33m=\u001b[0m\u001b[1;32mNone\u001b[0m\u001b[1;33m)\u001b[0m\u001b[1;33m:\u001b[0m\u001b[1;33m\u001b[0m\u001b[1;33m\u001b[0m\u001b[0m\n",
      "\u001b[1;32m~\\anaconda3\\lib\\site-packages\\selenium\\webdriver\\remote\\webdriver.py\u001b[0m in \u001b[0;36mexecute\u001b[1;34m(self, driver_command, params)\u001b[0m\n\u001b[0;32m    319\u001b[0m         \u001b[0mresponse\u001b[0m \u001b[1;33m=\u001b[0m \u001b[0mself\u001b[0m\u001b[1;33m.\u001b[0m\u001b[0mcommand_executor\u001b[0m\u001b[1;33m.\u001b[0m\u001b[0mexecute\u001b[0m\u001b[1;33m(\u001b[0m\u001b[0mdriver_command\u001b[0m\u001b[1;33m,\u001b[0m \u001b[0mparams\u001b[0m\u001b[1;33m)\u001b[0m\u001b[1;33m\u001b[0m\u001b[1;33m\u001b[0m\u001b[0m\n\u001b[0;32m    320\u001b[0m         \u001b[1;32mif\u001b[0m \u001b[0mresponse\u001b[0m\u001b[1;33m:\u001b[0m\u001b[1;33m\u001b[0m\u001b[1;33m\u001b[0m\u001b[0m\n\u001b[1;32m--> 321\u001b[1;33m             \u001b[0mself\u001b[0m\u001b[1;33m.\u001b[0m\u001b[0merror_handler\u001b[0m\u001b[1;33m.\u001b[0m\u001b[0mcheck_response\u001b[0m\u001b[1;33m(\u001b[0m\u001b[0mresponse\u001b[0m\u001b[1;33m)\u001b[0m\u001b[1;33m\u001b[0m\u001b[1;33m\u001b[0m\u001b[0m\n\u001b[0m\u001b[0;32m    322\u001b[0m             response['value'] = self._unwrap_value(\n\u001b[0;32m    323\u001b[0m                 response.get('value', None))\n",
      "\u001b[1;32m~\\anaconda3\\lib\\site-packages\\selenium\\webdriver\\remote\\errorhandler.py\u001b[0m in \u001b[0;36mcheck_response\u001b[1;34m(self, response)\u001b[0m\n\u001b[0;32m    240\u001b[0m                 \u001b[0malert_text\u001b[0m \u001b[1;33m=\u001b[0m \u001b[0mvalue\u001b[0m\u001b[1;33m[\u001b[0m\u001b[1;34m'alert'\u001b[0m\u001b[1;33m]\u001b[0m\u001b[1;33m.\u001b[0m\u001b[0mget\u001b[0m\u001b[1;33m(\u001b[0m\u001b[1;34m'text'\u001b[0m\u001b[1;33m)\u001b[0m\u001b[1;33m\u001b[0m\u001b[1;33m\u001b[0m\u001b[0m\n\u001b[0;32m    241\u001b[0m             \u001b[1;32mraise\u001b[0m \u001b[0mexception_class\u001b[0m\u001b[1;33m(\u001b[0m\u001b[0mmessage\u001b[0m\u001b[1;33m,\u001b[0m \u001b[0mscreen\u001b[0m\u001b[1;33m,\u001b[0m \u001b[0mstacktrace\u001b[0m\u001b[1;33m,\u001b[0m \u001b[0malert_text\u001b[0m\u001b[1;33m)\u001b[0m\u001b[1;33m\u001b[0m\u001b[1;33m\u001b[0m\u001b[0m\n\u001b[1;32m--> 242\u001b[1;33m         \u001b[1;32mraise\u001b[0m \u001b[0mexception_class\u001b[0m\u001b[1;33m(\u001b[0m\u001b[0mmessage\u001b[0m\u001b[1;33m,\u001b[0m \u001b[0mscreen\u001b[0m\u001b[1;33m,\u001b[0m \u001b[0mstacktrace\u001b[0m\u001b[1;33m)\u001b[0m\u001b[1;33m\u001b[0m\u001b[1;33m\u001b[0m\u001b[0m\n\u001b[0m\u001b[0;32m    243\u001b[0m \u001b[1;33m\u001b[0m\u001b[0m\n\u001b[0;32m    244\u001b[0m     \u001b[1;32mdef\u001b[0m \u001b[0m_value_or_default\u001b[0m\u001b[1;33m(\u001b[0m\u001b[0mself\u001b[0m\u001b[1;33m,\u001b[0m \u001b[0mobj\u001b[0m\u001b[1;33m,\u001b[0m \u001b[0mkey\u001b[0m\u001b[1;33m,\u001b[0m \u001b[0mdefault\u001b[0m\u001b[1;33m)\u001b[0m\u001b[1;33m:\u001b[0m\u001b[1;33m\u001b[0m\u001b[1;33m\u001b[0m\u001b[0m\n",
      "\u001b[1;31mInvalidSelectorException\u001b[0m: Message: invalid selector: The result of the xpath expression \"//*[@id=\"sp_blog_3\"]/div/div/div[2]/div/a/div/text()[2]\" is: [object Text]. It should be an element.\n  (Session info: chrome=93.0.4577.63)\n"
     ]
    }
   ],
   "source": [
    "driver.get(\"https://search.naver.com/search.naver?query=%EB%A7%A5%EB%8F%84%EB%82%A0%EB%93%9C%20%EB%8D%95%EC%A7%84%EC%A0%90&nso=&where=blog&sm=tab_opt\")\n",
    "\n",
    "search_box = driver.find_element_by_xpath('//*[@id=\"sp_blog_3\"]/div/div/div[2]/div/a/div/text()[2]') \n",
    "search_box.send_keys('매장')\n",
    "search_date = driver.find_element_by_xpath('//*[@id=\"setMonth1_1\"]').click() \n",
    "search_start = driver.find_element_by_xpath('//*[@id=\"searchForm\"]/div/fieldset[1]/ul/li[4]/dl/dd[3]/a').click() \n",
    "\n",
    "driver.switch_to.frame('sub') \n",
    "driver.switch_to.frame('main') \n",
    "elem = driver.find_element_by_xpath('//*[@id=\"resultForm\"]/div[2]/table/tbody/tr[1]')\n",
    "print(elem.text)\n",
    "\n"
   ]
  },
  {
   "cell_type": "code",
   "execution_count": 11,
   "metadata": {},
   "outputs": [
    {
     "ename": "WebDriverException",
     "evalue": "Message: chrome not reachable\n  (Session info: chrome=93.0.4577.63)\n",
     "output_type": "error",
     "traceback": [
      "\u001b[1;31m---------------------------------------------------------------------------\u001b[0m",
      "\u001b[1;31mWebDriverException\u001b[0m                        Traceback (most recent call last)",
      "\u001b[1;32m<ipython-input-11-7f4e86fc6bff>\u001b[0m in \u001b[0;36m<module>\u001b[1;34m\u001b[0m\n\u001b[0;32m     42\u001b[0m \u001b[0msleep\u001b[0m\u001b[1;33m(\u001b[0m\u001b[0mdelay_time\u001b[0m\u001b[1;33m)\u001b[0m\u001b[1;33m\u001b[0m\u001b[1;33m\u001b[0m\u001b[0m\n\u001b[0;32m     43\u001b[0m \u001b[0mxpath\u001b[0m \u001b[1;33m=\u001b[0m \u001b[1;34m\"//p[contains(text(),'맛')]\"\u001b[0m\u001b[1;33m\u001b[0m\u001b[1;33m\u001b[0m\u001b[0m\n\u001b[1;32m---> 44\u001b[1;33m \u001b[0mreview\u001b[0m \u001b[1;33m=\u001b[0m \u001b[0mdriver\u001b[0m\u001b[1;33m.\u001b[0m\u001b[0mfind_elements_by_xpath\u001b[0m\u001b[1;33m(\u001b[0m\u001b[0mxpath\u001b[0m\u001b[1;33m)\u001b[0m\u001b[1;33m\u001b[0m\u001b[1;33m\u001b[0m\u001b[0m\n\u001b[0m\u001b[0;32m     45\u001b[0m \u001b[0mprint\u001b[0m\u001b[1;33m(\u001b[0m\u001b[0mreview\u001b[0m\u001b[1;33m)\u001b[0m\u001b[1;33m\u001b[0m\u001b[1;33m\u001b[0m\u001b[0m\n\u001b[0;32m     46\u001b[0m \u001b[0mlink\u001b[0m\u001b[1;33m.\u001b[0m\u001b[0mclose\u001b[0m\u001b[1;33m(\u001b[0m\u001b[1;33m)\u001b[0m\u001b[1;33m\u001b[0m\u001b[1;33m\u001b[0m\u001b[0m\n",
      "\u001b[1;32m~\\anaconda3\\lib\\site-packages\\selenium\\webdriver\\remote\\webdriver.py\u001b[0m in \u001b[0;36mfind_elements_by_xpath\u001b[1;34m(self, xpath)\u001b[0m\n\u001b[0;32m    408\u001b[0m             \u001b[0melements\u001b[0m \u001b[1;33m=\u001b[0m \u001b[0mdriver\u001b[0m\u001b[1;33m.\u001b[0m\u001b[0mfind_elements_by_xpath\u001b[0m\u001b[1;33m(\u001b[0m\u001b[1;34m\"//div[contains(@class, 'foo')]\"\u001b[0m\u001b[1;33m)\u001b[0m\u001b[1;33m\u001b[0m\u001b[1;33m\u001b[0m\u001b[0m\n\u001b[0;32m    409\u001b[0m         \"\"\"\n\u001b[1;32m--> 410\u001b[1;33m         \u001b[1;32mreturn\u001b[0m \u001b[0mself\u001b[0m\u001b[1;33m.\u001b[0m\u001b[0mfind_elements\u001b[0m\u001b[1;33m(\u001b[0m\u001b[0mby\u001b[0m\u001b[1;33m=\u001b[0m\u001b[0mBy\u001b[0m\u001b[1;33m.\u001b[0m\u001b[0mXPATH\u001b[0m\u001b[1;33m,\u001b[0m \u001b[0mvalue\u001b[0m\u001b[1;33m=\u001b[0m\u001b[0mxpath\u001b[0m\u001b[1;33m)\u001b[0m\u001b[1;33m\u001b[0m\u001b[1;33m\u001b[0m\u001b[0m\n\u001b[0m\u001b[0;32m    411\u001b[0m \u001b[1;33m\u001b[0m\u001b[0m\n\u001b[0;32m    412\u001b[0m     \u001b[1;32mdef\u001b[0m \u001b[0mfind_element_by_link_text\u001b[0m\u001b[1;33m(\u001b[0m\u001b[0mself\u001b[0m\u001b[1;33m,\u001b[0m \u001b[0mlink_text\u001b[0m\u001b[1;33m)\u001b[0m\u001b[1;33m:\u001b[0m\u001b[1;33m\u001b[0m\u001b[1;33m\u001b[0m\u001b[0m\n",
      "\u001b[1;32m~\\anaconda3\\lib\\site-packages\\selenium\\webdriver\\remote\\webdriver.py\u001b[0m in \u001b[0;36mfind_elements\u001b[1;34m(self, by, value)\u001b[0m\n\u001b[0;32m   1005\u001b[0m         return self.execute(Command.FIND_ELEMENTS, {\n\u001b[0;32m   1006\u001b[0m             \u001b[1;34m'using'\u001b[0m\u001b[1;33m:\u001b[0m \u001b[0mby\u001b[0m\u001b[1;33m,\u001b[0m\u001b[1;33m\u001b[0m\u001b[1;33m\u001b[0m\u001b[0m\n\u001b[1;32m-> 1007\u001b[1;33m             'value': value})['value'] or []\n\u001b[0m\u001b[0;32m   1008\u001b[0m \u001b[1;33m\u001b[0m\u001b[0m\n\u001b[0;32m   1009\u001b[0m     \u001b[1;33m@\u001b[0m\u001b[0mproperty\u001b[0m\u001b[1;33m\u001b[0m\u001b[1;33m\u001b[0m\u001b[0m\n",
      "\u001b[1;32m~\\anaconda3\\lib\\site-packages\\selenium\\webdriver\\remote\\webdriver.py\u001b[0m in \u001b[0;36mexecute\u001b[1;34m(self, driver_command, params)\u001b[0m\n\u001b[0;32m    319\u001b[0m         \u001b[0mresponse\u001b[0m \u001b[1;33m=\u001b[0m \u001b[0mself\u001b[0m\u001b[1;33m.\u001b[0m\u001b[0mcommand_executor\u001b[0m\u001b[1;33m.\u001b[0m\u001b[0mexecute\u001b[0m\u001b[1;33m(\u001b[0m\u001b[0mdriver_command\u001b[0m\u001b[1;33m,\u001b[0m \u001b[0mparams\u001b[0m\u001b[1;33m)\u001b[0m\u001b[1;33m\u001b[0m\u001b[1;33m\u001b[0m\u001b[0m\n\u001b[0;32m    320\u001b[0m         \u001b[1;32mif\u001b[0m \u001b[0mresponse\u001b[0m\u001b[1;33m:\u001b[0m\u001b[1;33m\u001b[0m\u001b[1;33m\u001b[0m\u001b[0m\n\u001b[1;32m--> 321\u001b[1;33m             \u001b[0mself\u001b[0m\u001b[1;33m.\u001b[0m\u001b[0merror_handler\u001b[0m\u001b[1;33m.\u001b[0m\u001b[0mcheck_response\u001b[0m\u001b[1;33m(\u001b[0m\u001b[0mresponse\u001b[0m\u001b[1;33m)\u001b[0m\u001b[1;33m\u001b[0m\u001b[1;33m\u001b[0m\u001b[0m\n\u001b[0m\u001b[0;32m    322\u001b[0m             response['value'] = self._unwrap_value(\n\u001b[0;32m    323\u001b[0m                 response.get('value', None))\n",
      "\u001b[1;32m~\\anaconda3\\lib\\site-packages\\selenium\\webdriver\\remote\\errorhandler.py\u001b[0m in \u001b[0;36mcheck_response\u001b[1;34m(self, response)\u001b[0m\n\u001b[0;32m    240\u001b[0m                 \u001b[0malert_text\u001b[0m \u001b[1;33m=\u001b[0m \u001b[0mvalue\u001b[0m\u001b[1;33m[\u001b[0m\u001b[1;34m'alert'\u001b[0m\u001b[1;33m]\u001b[0m\u001b[1;33m.\u001b[0m\u001b[0mget\u001b[0m\u001b[1;33m(\u001b[0m\u001b[1;34m'text'\u001b[0m\u001b[1;33m)\u001b[0m\u001b[1;33m\u001b[0m\u001b[1;33m\u001b[0m\u001b[0m\n\u001b[0;32m    241\u001b[0m             \u001b[1;32mraise\u001b[0m \u001b[0mexception_class\u001b[0m\u001b[1;33m(\u001b[0m\u001b[0mmessage\u001b[0m\u001b[1;33m,\u001b[0m \u001b[0mscreen\u001b[0m\u001b[1;33m,\u001b[0m \u001b[0mstacktrace\u001b[0m\u001b[1;33m,\u001b[0m \u001b[0malert_text\u001b[0m\u001b[1;33m)\u001b[0m\u001b[1;33m\u001b[0m\u001b[1;33m\u001b[0m\u001b[0m\n\u001b[1;32m--> 242\u001b[1;33m         \u001b[1;32mraise\u001b[0m \u001b[0mexception_class\u001b[0m\u001b[1;33m(\u001b[0m\u001b[0mmessage\u001b[0m\u001b[1;33m,\u001b[0m \u001b[0mscreen\u001b[0m\u001b[1;33m,\u001b[0m \u001b[0mstacktrace\u001b[0m\u001b[1;33m)\u001b[0m\u001b[1;33m\u001b[0m\u001b[1;33m\u001b[0m\u001b[0m\n\u001b[0m\u001b[0;32m    243\u001b[0m \u001b[1;33m\u001b[0m\u001b[0m\n\u001b[0;32m    244\u001b[0m     \u001b[1;32mdef\u001b[0m \u001b[0m_value_or_default\u001b[0m\u001b[1;33m(\u001b[0m\u001b[0mself\u001b[0m\u001b[1;33m,\u001b[0m \u001b[0mobj\u001b[0m\u001b[1;33m,\u001b[0m \u001b[0mkey\u001b[0m\u001b[1;33m,\u001b[0m \u001b[0mdefault\u001b[0m\u001b[1;33m)\u001b[0m\u001b[1;33m:\u001b[0m\u001b[1;33m\u001b[0m\u001b[1;33m\u001b[0m\u001b[0m\n",
      "\u001b[1;31mWebDriverException\u001b[0m: Message: chrome not reachable\n  (Session info: chrome=93.0.4577.63)\n"
     ]
    }
   ],
   "source": [
    "from selenium import webdriver\n",
    "from selenium.webdriver.common.keys import Keys\n",
    "from time import sleep\n",
    "\n",
    "delay_time = 2\n",
    "\n",
    "options = webdriver.ChromeOptions()\n",
    "options.add_experimental_option(\"excludeSwitches\", [\"enable-logging\"])\n",
    "options.add_argument('window-size=1024,768')\n",
    "\n",
    "browser = webdriver.Chrome('chromedriver', options=options)\n",
    "browser.implicitly_wait(time_to_wait=5)\n",
    "\n",
    "# 브라우저에서 URL을 호출한다.\n",
    "browser.get(url='https://www.naver.com/')\n",
    "sleep(delay_time)\n",
    "\n",
    "# 입력항목에 검색어를 입력하고 엔터\n",
    "search_box = browser.find_element_by_xpath(\n",
    "    '/html/body/div[2]/div[2]/div[1]/div/div[3]/form/fieldset/div/input')\n",
    "search_box.send_keys('이비가짬뽕 덕진점')\n",
    "search_box.send_keys(Keys.RETURN)\n",
    "sleep(delay_time)\n",
    "\n",
    "# 상단에 VIEW 메뉴를 클릭\n",
    "# for i, keyword in enumerate(browser.find_element_by_xpath('//*[@id=\"lnb\"]/div[1]/div/ul/li').tolist()):\n",
    "#     print(\"이번에 찾을 키워드 :\", i, keyword.a)\n",
    "# //*[@id=\"lnb\"]/div[1]/div/ul/li[5]/a\n",
    "#//*[@id=\"lnb\"]/div[1]/div/ul/li[2]/a\n",
    "\n",
    "menu = browser.find_element_by_xpath(\n",
    "    '/html/body/div[3]/div[1]/div/div[2]/div[1]/div/ul/li[2]/a')\n",
    "menu.click()\n",
    "sleep(delay_time)\n",
    "\n",
    "# 첫번째 결과 클릭\n",
    "\n",
    "link = browser.find_element_by_xpath(\n",
    "    '/html/body/div[3]/div[2]/div/div[1]/section/div/div[2]/panel-list/div/more-contents/div/ul/li[1]/div[1]/div/a')\n",
    "link.click()\n",
    "\n",
    "sleep(delay_time)\n",
    "xpath = \"//p[contains(text(),'맛')]\"\n",
    "review = driver.find_elements_by_xpath(xpath)\n",
    "print(review)\n",
    "link.close()"
   ]
  },
  {
   "cell_type": "code",
   "execution_count": 2,
   "metadata": {},
   "outputs": [
    {
     "name": "stdout",
     "output_type": "stream",
     "text": [
      "url 수집 끝, 해당 url 데이터 크롤링\n"
     ]
    }
   ],
   "source": [
    "driver = webdriver.Chrome(chromedriver)\n",
    "time.sleep(2)\n",
    "\n",
    "url_list = []\n",
    "content_list = \"\"\n",
    "text = \"감자탕\"\n",
    " \n",
    "for i in range(1, 3):  # 1~2페이지까지의 블로그 내용을 읽어옴\n",
    "    url = 'https://section.blog.naver.com/Search/Post.nhn?pageNo='+ str(i) + '&rangeType=ALL&orderBy=sim&keyword=' + text\n",
    "    driver.get(url)\n",
    "    time.sleep(0.5)\n",
    " \n",
    "    for j in range(1, 5): # 각 블로그 주소 저장\n",
    "        titles = driver.find_element_by_xpath('/html/body/ui-view/div/main/div/div/section/div[2]/div['+str(j)+']/div/div[1]/div[1]/a[1]')\n",
    "        title = titles.get_attribute('href')\n",
    "        url_list.append(title)\n",
    "print(\"url 수집 끝, 해당 url 데이터 크롤링\")\n",
    " \n",
    "for url in url_list: # 수집한 url 만큼 반복\n",
    "    driver.get(url) # 해당 url로 이동\n",
    " \n",
    "    driver.switch_to.frame('mainFrame')\n",
    "    overlays = \".se-component.se-text.se-l-default\" # 내용 크롤링\n",
    "    contents = driver.find_elements_by_css_selector(overlays)\n",
    " \n",
    "    for content in contents:\n",
    "        content_list = content_list + content.text # content_list 라는 값에 + 하면서 점점 누적"
   ]
  },
  {
   "cell_type": "code",
   "execution_count": 4,
   "metadata": {},
   "outputs": [
    {
     "data": {
      "text/plain": [
       "['https://blog.naver.com/peace8012/222491086399',\n",
       " 'https://blog.naver.com/reeyoung82/222401783303',\n",
       " 'https://blog.naver.com/pinkish/222490270158',\n",
       " 'https://blog.naver.com/kizaki56/222432476464',\n",
       " 'https://blog.naver.com/kims_5055/222502304815',\n",
       " 'https://blog.naver.com/sujj85/222489318665',\n",
       " 'https://blog.naver.com/kmj881004/222492222449',\n",
       " 'https://blog.naver.com/mitsru79/222500949068']"
      ]
     },
     "execution_count": 4,
     "metadata": {},
     "output_type": "execute_result"
    }
   ],
   "source": [
    "url_list"
   ]
  },
  {
   "cell_type": "code",
   "execution_count": 3,
   "metadata": {},
   "outputs": [
    {
     "data": {
      "text/plain": [
       "'어제저녁부터 비가 오더니\\n 오늘 아침까지 이어지네요 \\n거의 폭우가 쏟아지듯 저희 지역은\\n 많은 양의 비가 뿌리고 있어요 \\n우리 이웃님들 아침 출근길 운전 조심하시고\\n 안전한 하루 되시길 바래요~\\n비가 오니, 또 얼큰한 국물요리가 생각나지요\\n급! 냉장고를 보니 식육점 사장님이 서비스로 주신^^ 등뼈 한 팩이 눈에 보이더라고요 \\n얼른얼른 꺼내서 요리해봅니다비오니께 바로 이거죠~ 감자탕\\n얼큰하고 구수하게 감자탕 휘리릭 끓여보았습니다 \\n등뼈 해장국 조리는 냄비에 넣고 끓이면 \\n시간이 길어지지만 \\n압력솥을 소환하면 시간과 수고로움이 \\n반으로 줄어듭니다 \\n그리고 고기가 폭~~ 익어서 맛나고요 \\n보통 냄비에 넣고 끓이면 1시간 이상은 \\n충분히 끓여줘야 뼈에서 살이 부드럽게 발라져요 \\n하지만 압력솥에 끓이면 시간은 1/4로 줄어들어요~ 살은 말할 것도 없고요 물론 핏물 빼는 시간은 좀 걸렸지만 \\n조리를 시작한 건 저녁쯤에 시작했는데\\n 금방 만들어냈네요 \\n역시 남편과 아이들 맛나다면서 잘 먹어주더라고요 \\n등뼈가 1kg 정도 됐는데 아쉽다면서...ㅋㅋ \\n담엔 실컷 먹게 두 팩 2kg는 넣어야겠네요 \\n친정 엄마가 손수 말리고 껍질까서 삶아주신\\n 시래기도 듬뿍 넣어보았고요 \\n얼마 전 우거지 된장국에 쓰고 남은 \\n단배추가 있어서 같이 넣어 푹푹 끓였는데\\n와.... 진심... 전 시래기 우거지가 더더 맛있네요^^\\n귀한 재료 넣어 만든 감자탕 끓이는법 \\n얼큰하고 구수한 뼈해장국 레시피 소개해볼게요\\n비 오는 오늘... 정말 아주 딱인듯합니다\\n(술도 안 마시는데 해장국 은\\n 왜 이렇게 끓여대는지..ㅋㅋ)뼈해장국 레시피계량: 밥숟가락, 계량컵\\n재료 \\n돼지등뼈 약 1kg\\n시래기, 우거지 삶은 것 600g\\n대파 1대\\n청양고추 1개\\n물 1.5리터\\n등뼈 삶을 때\\n통후추 약간\\n월계수잎\\n대파 1대\\n청주 1/3컵 (종이컵)\\n양념\\n고춧가루 5스푼\\n다진 마늘 2스푼\\n맛술 3스푼\\n된장 1스푼\\n새우젓 2스푼\\n액젓 4스푼\\n들깨가루 3~4스푼식육점 사장님께서 서비스로 주신 등뼈 입니다\\n 1kg가 약간 넘는 양이더라고요\\n자주 주셔서... 저희는 김치찌개나 김치찜, 뼈찜, \\n감자탕 등등 여러 가지 요리로 해먹고 있어요 \\n제 블로그 포스팅 보시면 다양한 레시피들이\\n소개되어 있으니까 참고하시면 좋을듯합니다등뼈는 핏물을 빼주어야 하지요 \\n잠길 정도의 찬물에 등뼈를 담가 약 2~3시간 정도\\n 핏물을 빼줍니다 \\n중간중간 새 물로 갈아주면 좋습니다친정 부모님께서 손수 손질하여 말리신 무청시래기~\\n껍질 벗겨 삶아서 먹기 좋게 소분해서 항상 주셔요~\\n냉동실에 아껴놨다가 이제 꺼내보았네요 \\n손질하고 삶는 과정까지 \\n다 끝낸 거라 해동하여 바로 쓰면 됩니다지난번 요리에 쓰고 남은\\n 단배추가 2~3포기 되더라고요 \\n뿌리 부분은 잘라내고 반으로 자른 다음\\n 깨끗이 씻어주었습니다단배추는 끓는 물에 소금을\\n 반 스푼 가량 넣고 삶아줍니다\\n약 3~4분간 데쳐주면 돼요 \\n데친 것은 재빨리 찬물에 헹궈주고\\n 물기를 꼭 짜서 준비합니다그러면 뼈해장국에 들어갈 \\n시래기 우거지가 준비되었네요 \\n감자팅집에 가도 우거지가 너무 좋아서\\n 추가 주문을 하기에~\\n아주 넉넉하게 준비해보았어요\\n약 600g 정도 되더라고요\\n저는 시래기와 배추가 있어서 함께 준비했지만 \\n배추만 준비하셔도 좋고,\\n 시래기만 넣어도 괜찮습니다물기 꼭 짠 재료는 칼로 먹기 좋게\\n 듬성듬성 썰어줍니다재료에 양념을 해볼까요~\\n미리 이렇게 양념을 넣고 버무려 두면 \\n간도 배고 맛있어요\\n밥숟가락 계량으로 \\n고춧가루 5, 다진 마늘 2, 맛술 3, 된장 듬뿍 1,\\n 새우젓 2, 액젓 4분량의 양념을 모두 넣고 손으로\\n 조물조물 버무려서 밑간을 해둡니다 \\n기본양념은 위 계량대로 맞추어 양념해놓고 \\n나중에 국물에 넣어 끓인 후 맛을 보아 싱거우면\\n 입맛에 맞게 간맞춤 해주시면 돼요이제 핏물을 어느 정도 뺀 등뼈를 1차로 삶아줍니다 저는 압력솥에 끓일 거라서\\n 압력솥으로 모든 조리를 진행했습니다 \\n6리터 용량이라서 아주 든든하네요\\n 등뼈 같은 경우는 2kg도 \\n충분히 들어가는 용량입니다\\n감자탕 해먹으려고 큰 걸로 구입했는데\\n 요런 탕요리나 찜 요리할 때 아주 요긴하더라고요\\n고기가 잠길 정도의 물을 붓고 통후추 약간,\\n 월계수잎 2~3장을 넣고 팔팔 끓여줍니다물이 끓기 시작하면 청주 1/3컵을 넣고\\n등뼈를 넣은 다음 약 3분~4분가량 끓여줍니다\\n이 과정에서 어느 정도 기름이나 이물질 등이\\n 제거가 된답니다\\n또 잡내도 없어지고 말이죠한번 데친 것은 꺼내어 찬물에 깨끗하게 씻어줍니다 \\n기름이 많이 붙은 부위는\\n 가위 등으로 잘라내면 좋아요다시 압력솥으로 돌아와 한번 삶은 고기를 넣어주고 \\n(압력솥은 깨끗이 씻고 다시 사용합니다)물 1.5리터를 붓습니다 \\n물의 양은 고기가 살짝 잠길 정도면 됩니다 \\n그리고 대파 흰 부분 1대도 함께 넣어줍니다뚜껑을 닫고, \\n센 불에 끓이면서 추가 돌기 시작하면\\n 그때부터 불을 약간만 줄인 후 \\n약 15분간 끓여줍니다 \\n15분 끓였으면 불을 끄고\\n 김이 빠지도록 그대로 두면 돼요 \\n급하시면 증기는 미리 빼셔도 상관없습니다\\n저는 약 20분 끓였는데 \\n살들이 아주 후두둑 떨어지더라고요 \\n1kg 기준으로 약 15분만 끓여도 충분할 것 같아요뚜껑을 열어보았네요 \\n뽀얗게 국물도 잘 우러났고, 고기도 아주 잘 익었어요 \\n너무 잘 익어서 집게로 집으니 \\n뚝뚝 살들이 떨어지더라고요 ^^이어서 압력솥에 아까 양념해서 버무려둔 \\n우거지들을 모두 넣고 \\n한소끔 더 팔팔 끓여주고요 그사이 마지막 재료로 넣을\\n 대파 1대와 청양고추 1개는 어슷 썰어 준비하고 어느 정도 양념이 스며들도록 끓여졌으면 \\n대파와 청양고추, 그리고 들깨가루 듬뿍 3~4스푼\\n (생략하셔도 좋아요 입맛에 맞게 조절합니다)을\\n 넣고 \\n한소끔 끓여준 후\\n 마지막으로 간을 보고 부족한 것은\\n 입맛에 맞게 간맞춤 해줍니다 \\n소금으로 하셔도 좋고,  \\n백선생님께서 여기에\\n 소고기 다시#+미#을 적절하게 쓰면 \\n식당에서 파는 맛이 난다고 하시더라고요 \\n각자 입맛에 맞게 조절하시면 됩니다\\n깻잎이 있으면 대파와 함께 넣으셔도 좋아요!감자탕 뼈해장국 끓이는법 완성입니다 \\n저는 뚝배기에 고기, 건더기 국물을 함께 담아\\n 플레이팅 했어요 \\n금방 먹을 게 아니라서 요렇게 담아놓고 \\n저녁 먹을 땐 식탁에 올려 보글보글\\n 끓여가면서 먹었네요~~\\n우거지 양을 넉넉하게 했더니 위 사진만큼의 분량이 \\n압력솥에 또 남아있다는거....ㅋㅋ\\n행벅해서 ㅎㅎ맛을 보니 제대로 잘 끓여졌더라고요 \\n역시 압력솥의 힘!입니다 ㅎㅎ아이들 접시에 뼈 하나씩 올려 주니 \\n살만 쏙쏙 발라 먹고, \\n또 국물은 밥과 함께 비벼 먹기도 하고요 4인 가족 저렴하고 착한 가격의 등뼈 1kg로\\n 아주 만족스러운 한 끼 식사를 했네요 \\n고기 좋아하시면 더 넉넉하게 넣고 만드셔도 좋아요 과정이 길고 다소 번거로운 게 감자탕 레시피 인데 \\n압력솥을 활용하시면 \\n훨씬 간단한게 만드실 수 있어요\\n늘 식당에서만 사 먹던 해장국\\n이젠 집에서도 간단하게 끓여서 맛있게 즐겨보세요 \\n저희는 양이 많아 고기와 건더기만 먹어도\\n 충분했지만 여기에 라면사리를 넣고 끓여도 맛있고, 마지막엔 볶음밥으로 볶아 드셔도 맛있답니다 \\n오늘 저녁 메뉴로 선택하셔도 좋겠지요?요즘은 각별히 건강에 신경을 쓰고 있는데요!\\n건강 신경쓴다면서\\n왜 술은 못줄이는 걸까요...?ㅋ\\n몸에 좋은 음식 해놓고 한잔하는게\\n유일한 낙이 아닐까 싶어요!!ㅋㅋ\\n그런 의미에서 얼큰하면서도 시원한 국물에 \\n부드러운 육질의 등갈비까지\\n거기에 포슬포슬 잘 익은 감자까지 넣으면 \\n정말 최고의 안주 레시피겠죠?\\n일단 맛 보장되는 \\n백종원 감자탕 그대로 따라해 봤어요!!\\n제가 알려드리는 레시피로 고고~~잠자려고 누워서 티비를 보다가 \\n야식방송 나오면 왜이리 먹고싶은건지..\\n분명 저녁을 든든하게 먹었는데 \\n꼭 야식이 땡기죠..ㅋㅋ \\n이 요리를 해먹었던 그때도\\n야식프로그램을 보다가 \\n급 생각이 나서 해먹었던 기억이 나네요!!\\n너무나도 간단하면서도 확실한 방법으로 \\n감자탕 끓이는법 알려주시던 \\n백주부님의 모습에 감탄했었지요.\\n그래서 그때 똑같이 따라서 끓였던 \\n그 방법 함께 공유할께요!- 감자탕 끓이는법 재료 -\\n(성인 2~3인분)\\n(어른 숟가락 계량/50분가량 소요)\\n등갈비 12쪽( 900~1kg)\\n감자 큰 걸로 5개,\\n들깨가루 듬뿍 5스푼,\\n대파, 깻잎, 양념장\\n언제나 그렇듯이 너무나 쉽고 빠르게 \\n그리고 군더더기 없이 간단하게\\n감자탕을 만들던 백주부님.. \\n볼 때마다 감탄하게 돼요.. ᄏᄏᄏ\\n그때 당시 LA 현지에서 구입한 \\n돼지 등갈비로 만들어서 \\n고기는 더 컸던 걸로 기억해요!\\n그래서 12쪽이라고 했지만 \\n저는 미니라서 몇 조각 더 넣었어요!1. 양념장 만들기\\n(일반 어른 숟가락 계량입니다)\\n된장 1스푼, 고추장 1스푼\\n다진 마늘 1스푼, 고춧가루 3스푼,\\n국간장 종이컵 반컵(80ml),\\n액젓 3스푼\\n예전에 집밥 방송에서는 \\n따로 양념장을 만들어 넣지는 않았어요!\\n평소 늘 그러듯이 그냥 터프하게 말씀하시죠.\\n\"그냥 느~!!\"\\n순서 상관없이 막 넣어 끓이지만 \\n저는 정확하게 알려드리기 위해\\n들어갔던 양념을 먼저 양념장으로 만들었어요!\\n양과 맛은 똑같으니 걱정 마세요^^2. 한번 끓여 잡내 날리기\\n물에 담가서 핏물을 빼는 복잡한 작업은 패스에요!\\n백종원 감자탕 끓이는법 이라 간단해요!\\n등갈비를 넣은 냄비에 \\n잠길 만큼 물을 넣고 \\n맛술 50ml를 함께 넣은 뒤\\n강불에서 뚜껑을 열고\\n딱 10분간만 끓여준 뒤 건져냅니다!\\n오래 끓이지 않아요!\\n뼈 사이사이 빠져나오는 빨간 핏물 보이시죠?\\n그렇게 핏물만 사라지면 된답니다.\\n그러면서 잡내도 함께 날아간답니다!3. 고기와 냄비 넣기\\n10분간 끓여준 고기를 건져서 냄비에 잘 넣어주세요. \\n찬물에 헹구지 않고 바로 사용합니다!\\n등갈비 12쪽과 \\n감자 5개를 통째로 넣었어요!\\n40분 동안 푹 끓여줘야 하기에\\n감자는 자르지 않고 통째로 사용했어요!4. 대파, 깻잎 썰기\\n대파는 큼직하게 썰어서 준비해주시고요!\\n깻잎은 미리 썰어두셔도 되고\\n나중에 넣을 때 썰어도 된답니다.\\n저는 미리 사진으로 보여드리기 위해 \\n여기에 넣었지만 \\n푹 끓이고 나서 마지막에 넣을 때 썰면 됩니다!5. 양념장 넣고 끓이기\\n감자까지 넣은 냄비에 물 12컵(2리터)을 넣고 \\n대파와 양념장을 모두 넣어주세요!\\n순서 상관없이 위 양념을 \\n그대로 넣어주시면 됩니다.들깨가루 듬뿍 5스푼 도 함께 넣고 \\n처음부터 끓여줘야 기가 막히는\\n감자탕 맛이 난답니다!\\n마지막으로 잡내를 잡아주는\\n통 생강을 얇게 썰어서\\n두 조각 넣어주세요!6. 40분 동안 끓이기\\n위 모든 재료를 한꺼번에 넣은 뒤\\n40분 동안 푹 삶아주면 끝!\\n이때 뚜껑은 꼭 열고 끓이셔야\\n잡내가 함께 날아갑니다!\\n자 이제 환상의 감자탕 끓이는법 그대로 만들어서\\n감동을 맛보는 순간이 기다리고 있어요.. ㅋㅋㅋ\\n시간이 지나고 푹~ 끓고 나서 \\n숟가락으로 감자를 잘라서 익었는지 확인 후\\n집밥 백 선생께서 알려주신 데로!!\\n국물 맛이 짭짤 하면 물을 가감해서 \\n간을 맞춰주시면 됩니다!\\n그리고 마지막으로 \\n깻잎 듬뿍 넣어주고 불을 꺼주세요!어쩜... 집에서도 이런 맛을 낼 수 있구나!!\\n감탄이 절로 나오는 감자탕 완성!\\n정말 어렵지 않아요! \\n차근차근 따라서 한번 만들어 보세요^^집밥 프로그램 보고 배운 내용 그대로 \\n순서도 똑같이 만들어 봤으니!\\n여러분도 쉽게 따라 하실 수 있을 거예요!진한 국물 맛의 비법은 처음부터 넣고 \\n팔팔 끓인 들깨가루인 것 같기도 하고..\\n너무 신기하게도 정말 영업집에서 \\n사 먹던 그 맛과 냄새가 나요!\\n감자탕 끓이는법 이제 이렇게만 하는걸로!\\n어쩜 너무너무 신기하고 맛도 좋고!!ㅋㅋ심지어 돼지고기 잡내도 안 나고 \\n역시 오늘도 실패 없는 백선생 요리 \\n감자탕 끓이는법 성공입니다!\\n국물 맛이 짜거나 싱거운 분들은 \\n나중에 간을 맞춰서 드시면 됩니다!\\n좀 짭짤하다며 나중에 물을 추가해서 넣으면 끝!\\n어렵고 복잡하다고 생각했던 감자탕!\\n이거.. 별거 아니더라고요^^ \\n여러분도 꼭 한번 따라 해 보세요^^\\n좋은 하루 보내세요!소싯적, 목 열고 맥주 마시고..\\n쏘맥을 19잔 마셨던 전성기에 종종 찾았던 감자탕.\\n이젠 아이의 엄마이자, 늙다보니...주량이 급격하게 줄어들어 이제는 술 한모금도 힘들다.\\n회사 주변에 뼈해장국이나 감자탕집이 없고 순대국이 넘쳐나바도니 감자탕이 가끔 생각날 때가 있었다.\\n오늘같이 비오는 날에 맛있게 먹었던 본말감자탕의 추억을 소환해 본다.부천 상동시장에 위치한 본말감자탕 상동시장점 \\n시장 안에 웬 감자탕집? 이라 생각했는데.. 바로 포장전문점이기 때문에 장 보면서 쉽게 사갈 수 있는 간편식을 지향하고 있다 본말감자탕의 뜻은 본래 맑은감자탕의 줄임말이라 한다.\\n국물이 맑지만 고기맛이 진한 갈비탕 같은 감자탕이라는데...한 번 먹어봐야 그게 맞는지 알 것 같다.\\n뼈해장국, 감자탕, 뼈찜을 판매하고 있는데, 어떻게 포장되는지 모형으로 보여주니, 선택하는데 꽤 도움이 된다.프리미엄급의 돼지목뼈만을 사용한다는 본말감자탕요즘은 진짜 로제소스가 대세인 듯...\\n떡볶이, 파스타에 이어 뼈찜까지 로제가 침투하고 있다. 본말감자탕의 메뉴와 가격이다. 내가 잘 알고 있는 감자탕 가게의 절반도 안되는 저렴한 가격이다. 경쟁력 있는 듯...\\n우선 홀 매장을 운영하는 인건비가 절약되고, 본사에서 직접 재료를 제공하면서 유통마진을 최소화 하니, 이런 가격이 가능하지 않나 싶다.사장님께서 갑자기 안으로 들어와 보라 하신다.\\n내 앞에 놓인 것은 다름아닌 현대식 큰 솥!!\\n본말감자탕에 들어가는 배추우거지는 국내산만 쓰고있고, 계속 끓여서 우거지가 그냥 녹을듯이 부드럽다고 어필하셨다.\\n감자탕에서 살코기만큼 중요한 게 우거지니까, 이따 한 번 집에서 평가해 봐야겠다.호탕하시고 시원시원하신 사장님 한 컷 \\n고객 응대도 참 잘 하시는 것 보니, 태생이 사업체질이신 듯 예약을 하면 좋은 점! \\n캠핑, 등산, 나들이, 낚시 가는 분들을 위해 꽁꽁 얼려 제공해준다고 한다. \\n이 또한 꽤 괜찮은 서비스 아닌가. \\n캠핑가서 꼭 고기만 구워먹으란 법 있나, 삶은 고기 뜯어먹으며 뜨끈한 국물 마시는 것도 묘미일 듯 싶다. \\n캠핑족들이 꼭 확인해야할 사항! 그리고 사장님이 사회봉사 하시는 점도 눈에 띄었다. \\n어르신들을 위해 매월 16일 무료로 식사를 제공해 드리는 것을 보니, 이 매장은 앞으로 더 흥했으면 하는 바람이 들었다. 집으로 포장해 온 감자탕 3인분\\n감자탕과 채소 이렇게 간단히 구성되어 있다. \\n감자탕 비용을 낮추기 위해 공기밥이나, 김치 등은 제공하지 않는 듯. \\n상관없다. 어차피 집에서 먹는데, 밥 하는것쯤이야 껌이지...  가격을 다시 한 번 리마인드 하겠다. \\n정말 저렴하긴 하네... 감자탕이 거의 밀키트 수준. ㅎㅎㅎ \\n맛있게 해먹는 방법까지 친절하게 안내해 주고 있다. \\n가장 밑에... 공기밥, 기본반찬이 제공되지 않는 이유에 대해 설명해주고 있다. \\n내 예감이 역시 맞았네... 내가 우려했던 부분 중 하나가..감자탕을 뜨겁게 주심 어쩌지? 였다.\\n이미 환경호르몬을 수시로 많이 섭취하고 있다 하지만..그래도 뜨거운 플라스틱 용기는 썩 반갑지는 않다.\\n그런데, 본말감자탕은 센스있게 차갑게....제공해 주다니...\\n마음에 들었으~!  우선 우거지와 뼈가 들어있는 감자탕을 솥에 넣고 끓이기 시작했다. 이와 동시에, 수제비와 감자를 넣어 10분 정도 끓였다. 보글보글 끓었지만, 좀 더 우러나 깊은 맛을 느끼고 싶어 10분 더 끓이고 버섯과 파 등을 넣었다. 정말 비주얼이 괜찮다. 맛만 있으면 베스트일 듯\\n그리고 양도 꽤 많아서 3인 이상 먹을 수 있는 양이라는 점... \\n끓인 후, 일부는 담아서 아빠에게 갖다드리기 까지 했다.  그릇에 담아보니, 더욱 먹음직 스러운 감자탕 \\n확실히 조미료를 덜 쓴 느낌이라 심심하다는 느낌을 받을 수 있지만, 텁텁함이 없어 계속 먹을 수 있다. \\n맑은 갈비탕 느낌의 감자탕, 딱 그 느낌이라 할 수 있다. 국내산 우거지라, 믿고 열심히 먹었다. 부들부들해서 가위로 자를 필요없이 면치기 하듯 후루룩 먹었다. 밥과 맥주, 그리고 감자탕이 함께 하니, 이 곳이 천국이라는 휘바럽 \\n나는 맥주에 감자탕을 먹으면 배가 불러서 잘 못 먹으니, 감자탕에 집중하기로 했다. 고기, 채소, 우거지 하나하나가 신선하고, 양도 많아서 꽤 만족스럽게 식사를 할 수 있었다. 이 살 많은 것 보소...ㅎㅎㅎㅎ \\n계속 끓인 결과물이라....살코기가 녹듯이 찢어진다. \\n퍽퍽한 등뼈살을 많이 접했는데, 본말의 살코기는 아주 보드랍고 많다. 붉은 끼가 돈다고 놀라지 말길. \\n덜 익은 것이 아니라, 화학적 반응일 뿐. \\n충분히 잘 익은 상태이다. \\n야들야들하게 먹을 수 있는 최상의 상태이니, 걱정하지 말고 먹길 바란다. 매일 10:00~20:00\\n퀄리티 좋은 감자탕을 집에서 편하게 즐길 수 있게 해준 본말감자탕\\n앞서 사진으로 보았듯이 홀 운영없이 포장배달전문점으로 운영하여 인력비 등을 절감할 수 있고 코로나 19 시국에 소자본창업으로 꽤 괜찮은 아이디어라 생각이 들었다.\\n#부천맛집 #부천상동맛집 #상동시장맛집 #감자탕배달맛집 #뼈해장국맛집 #뼈찜맛집 #포장맛집 #포장배달전문점 #배달맛집성수동 소문난성수감자탕 가성비로 여전한 인기\\n안녕하세요 몽몽이에요\\n오늘은 정말 유명한 식당 하나를 소개해드리려고 합니다.\\n워낙 유명해서 소개가 필요없을 것 같긴 한데요.\\n준수한 맛에다가 가성비를 갖추고 있어서 인기가 많은 것 같아요.\\n제가 갔을 때에도 역시나 엄청난 웨이팅을 만나고 왔어요.\\n제가 상세 후기를 남겨보도록 하겠습니다~!!\\n소문난성수감자탕이렇게 우리가 흔하게 만날 수 있는 감자탕 식당입니다. ^^\\n그럼 무엇이 특별할까요? 제가 볼때는 분위기와 가격, 영업시간 때문인 것 같아요.위치는 성수동카페거리 쪽이에요.\\n주차는 불가능하고 대중교통으로 방문 추천드릴게요. 그래야 술도 한잔 하지요~\\n주소 : 서울시 성동구 연무장길 45\\n전화번호 : 02-465-6580\\n영업시간 : 24시간, 연중 무휴\\n주차 : 불가능\\n이니까 참고하세요~!큰 대로는 아니고 골목속에 있는데도 엄청난 존재잠을 뿜뿜하는 곳이었어요.\\n근처만 가도 사람들이 바글 거려서 알 수 있습니다.제가 조금 이른 시간에 갔는데도 소문난성수감자탕 이렇게나 줄을 서 있었습니다.\\n원래 24시간 하는게 매력인 식당인데 현재는 방역에 맞춰서 영업시간이 바뀔거에요.저희도 줄을 서 봅니다.\\n술 마시는 곳이라 식사시간은 길지만, 다행히 안에 자리가 많아서 회전율은 꽤 빠른편이었어요.\\n20분 정도 줄을 선 것 같아요.포장해서 가져갈 수도 있는데 당연히 포장은 줄 안 서셔도 되요.\\n안에 들어가서 바로 구매하세요~!줄을 서 있다가 드디어 저희 차례가 되어 안으로 들어왔습니다.\\n정말 넓은 매장에서 왁자지껄하게 감자탕 먹는 분위기에요. 안쪽에도 공간 또 있어요.소문난성수감자탕 메뉴판을 살펴보도록 할게요.\\n대자로 먹어도 38,000원 밖에 안해요. 저희는 4명이서 2차로 온거라 중 28,000원으로 주문했는데 충분했어요.\\n왜냐면 여기는 먹으면서 라면사리도 넣고, 수제비 사리도 넣고, 마지막에 볶음밥도 가능하거든요!이렇게 자리에 앉아서 반찬 세팅을 해주셨습니다.\\n좋았던 것 중 하나는 인덕션 방식을 이용하셔서 테이블에 불이 안 올라와요.깍두기를 비롯한 기본찬 세팅인데요.\\n풋고추가 엄청나게 크더라고요. 저거만 먹어도 어느정도 허기는 견딜 수 있어요. ㅎㅎ개인별 앞접시가 준비가 되고, 와사비 들어간 간장소스도 나옵니다.그리고 드디어 테이블로 올라온 소문난성수감자탕의 대표 메뉴 감자탕이에요.\\n중자여도 크기가 상당히 크더라고요. 역시 가성비도 인기의 한 원인인것 같아요.테이블 위에 불이 직접 없어도 인덕션처럼 끓여줍니다.\\n참 좋은 세상이 된 것 같아요.냄비에 들어가지 않을정도로 뼈다귀가 잔뜩 들어가 있으니까요.\\n이렇게 끓이면서 국물을 섞어주시는게 좋아요.이렇게 큼직한 얼큰한 국물의 뼈다귀를 드실 수 있습니다.\\n제가 먹어보니까 막 엄청 맛있지는 않아요. 그냥 평범한 감자탕 느낌이었어요.\\n역시나 왁자지껄한 이 분위기와 저렴한 가격 때문에 줄서는 것 같아요.큼직한 감자들도 많이 들어 있습니다.\\n저는 감자를 으깨서 국물과 함께 섞어 먹는 것을 좋아합니다. ㅎㅎ앞접시에 이렇게 감자탕 가져다 놓고 막 퍼먹었어요.\\n정말 가격이 비싸지 않아서 좋더라고요. 그게 최고 장점인 것 같아요.고기를 어느 정도 먹은 후에는 라면사리를 하나 추가 했어요.\\n이렇게 도중에 이것저것 넣어서 먹는 것도 재미요소입니다.라면사리는 반을 한번 부순 후에 넣어서 끓여드세요.다시 시작되는 푸짐한 양이네요.\\n1차로 족발 먹고 와서 2차로 또 이만큼이나 먹고 있습니다. 맛이 있긴 했나봐요. ㅎㅎㅎ이런 국물에 라면사리 맛은 굳이 설명을 드리지 않아도 괜찮겠죠?? ㅎㅎ소문난성수감자탕 오시면 또 추가하셔야할게 바로 수제비 사리입니다.주문하면 이모님이 오셔서 직접 수제비를 손으로 잘라서 넣어주세요.\\n엄청나게 빠른 손으로 작업해주셔서 이거 보는 것도 재미있더라고요. ㅎㅎ라면도 먹고, 수제비 사리까지 또 푸짐해졌습니다.\\n수제비도 평범하지만, 감자탕 국물이 계속 끓여지면서 점점 깊은 맛이 났어요. ㅎㅎ마지막에는 또 볶음밥을 추가했어요.\\n라면사리, 수제비사리, 볶음밥까지 계속 변화하는 맛을 즐기는 것도 여기 특징이네요.이모님이 오셔서 또 숙련된 손길로 볶음밥을 만들어 주셨습니다.볶음밥도 매우 준수해요.\\n일단 깊어진 국물에 밥을 볶았기에 맛이 상당히 강하네요.\\n맛이 없을 수가 없는 조합이긴 합니다.그렇게 2차에서 불태웠습니다. ㅋㅋㅋㅋㅋ\\n술 마시기에도 좋은 곳이었어요.성수동 소문난성수감자탕 다녀왔어요~!!\\n역시나 엄청난 웨이팅을 자랑하는 인기 식당입니다.\\n감자탕은 사실 평범하다고 생각되고, 가격이 저렴하고, 이것저것 추가해서 먹을 수 있는 구성이 재미있는 것 같아요.\\n맛이 없는 건 아니었지만 특별한건 아니어서, 가성비 추구하시는 분들에게 추천드릴게요~!\\n#소문난성수감자탕 #성수동감자탕얼큰한 국물이 생각날 땐,\\n이바돔감자탕 상무점안녕하세요, 라이크윤입니다~^^\\n이번 주에 남편이 갑자기 백신 휴가를 받는 바람에\\n매 끼니를 집에서 해결하기가 너무 힘들더라구요,ㅋ\\n그래서 이날은 상무지구 점심으로 인기 있는\\n이바돔감자탕을 가기로 했어요.이바돔감자탕 상무점\\n광주광역시 서구 상무중앙로34번길 2\\n매일 00:00 - 24:00상무지구 점심 하기 좋은 이바돔 감자탕은\\n주차장이 완비되어 있어서 주차 걱정 없이 올 수 있어요.이바돔감자탕 상무점에서 식사 후\\n포장하면 20%할인, 네이버 예약 후\\n포토리뷰 남기면 스타벅스 커피 쿠폰 증정!\\n저는 이날 네이버로 예약하고 방문했는데\\n점심이나 저녁시간에는 아무래도 손님이\\n몰릴 시간이니 미리 예약하고 가시면 좋을 것 같아요.돼지등뼈, 시래기, 곤드레, 3년 묵은지 등\\n국내산 식재료를 사용하는 이바돔감자탕은\\n그만큼 믿고 먹을 수 있어 좋아요^^이바돔감자탕에서 포장 주문하시는 분들은\\n주목하세요~!\\n용기를 준비해 오시면 용기 내 할인을\\n해드린다고 하네요ㅋ 이바돔감자탕 정말\\n할인행사를 다양하게 하네요.신발장이 따로 마련되어 있어\\n신발이 다른 사람과 서로 섞일 일 없이\\n보관할 수 있어요.이바돔감자탕 상무점 매장 모습이에요.\\n평일 점심시간인데 사람이 꽤 있더라구요.\\n예전에 자주 오긴 했는데 매장이 이렇게 넓은 줄\\n몰랐어요.ㅋㅋ 코로나만 아니면\\n단체 모임이나 가족모임 하기에도 좋겠어요.상무지구 점심 맛집 이바돔감자탕에는\\n어린이 놀이방이 있어서 어린아이와 함께\\n방문하기 좋답니다. 예전에 서윤이랑 같이 왔는데\\n밥 다 먹으면 놀이방에서 놀 수 있다고 하니까\\n평소 잘 안 먹던 아이인데 밥 잘~먹고\\n놀이방가서 놀더라는,ㅋㅋ돌도 안된 아이들은 계속 안고 있거나\\n바닥에 눕혀놓아야 하는데 \\n아기의자와 바운서도 넉넉하게 준비되어 있어요.갓 지은 밥을 먹을 수 있는 7분 솥밥과\\n셀프 코너가 있어요!\\n기본적인 반찬들은 나오지만\\n양념과 고추, 반찬 리필은 셀프 바를\\n이용하시면 된답니다~감자장 먹으러 온 거긴 한데,\\n메뉴가 생각보다 다양해서 잠시 고민,,ㅋ\\n그래도 상무지구 점심으로는 역시나 감자탕!\\n묵은지가 들어가는 감자탕과\\n명품 감자탕은 가장 기본,\\n얼큰 감자탕은 직원분에게 여쭤보니\\n명품 감자탕이랑 양념소스 자체가 다르다고\\n하시더라구요. 저희 부부는 가장 기본인 \\n명품 감자탕 소로 주문했어요.\\n이바돔 상무점에서는 다양한 이벤트를 하는데요.\\n앞에서 알려드린 것 말고 이렇게나 많이 하고\\n있더라구요.ㅋㅋㅋ 이벤트까지 푸짐하다 ^^명품 감자탕이 나왔어요♥\\n남편이 보고 작은 사이즈로 주문한 거 맞냐며,ㅋ\\n양이 정말 어마어마하다,, \\n명품 감자탕은 소 31,000원 /중 35,000원/\\n대 39,000원으로 가격차이도 별로 안 나더라고요.\\n4명이서 와서 감자탕 대를 주문하면\\n넉넉하게 먹고 남을 사이즈!김치, 샐러드, 냉국은 기본적으로 세팅해 주시고요.\\n매운 고추와 소스는 셀프바에서 가지고 왔어요.\\n감자탕과 곁들여 먹기 좋은 반찬들이죠~고기도 한가득~ 야채도 한가득~\\n오랜만에 먹는 감자탕이라 설레네요.\\n얼큰한 국물 좋아하는 저희 부부로는\\n상무지구 점심으로는 딱!이에요.셀프 바 뒤쪽에 부침개를 부쳐먹을 수 있는\\n공간이 있는데 저는 잘 못하니까\\n남편에게 패쓰,ㅋ\\n이날 비도 오고 해서 부침개가 땡기더라구요,ㅋㅋ이바돔감자탕 상무점 오시는 분들은\\n부침개 꼭 부쳐드세요!\\n남편이 기름을 많이 해서 얇게 부쳐야 맛있다며,ㅋ\\n진짜 의외로 맛있었다,, 칭찬,,ㅋ양이 많아서 끓는데 약간의 시간이 필요한데\\n고기는 이미 익혀 나온 거라 야채와\\n사리가 익을 정도만 끓여주시면 돼요.\\n끓는 동안 주문했던 수제비 사리도 넣어주구요,\\n들깨가루 좋아하는 남편이 들깨가루도 따로 주문해서\\n넣었어요.ㅋㅋㅋ 들깨가루 좋아하시는 분들은\\n한번 넣어서 드셔보세요. 국물이 걸쭉하고\\n더 맛있어져요!크 비주얼 보소!\\n처음에 이거 보고 우리 다 먹을 수 있을까 했는데\\n건더기 싹싹 비움^^ 시래기를 처음부터 추가할까\\n했는데 시래기도 아주 넉넉하게 넣어주셨어요.비도 오고, 얼큰한 국물이 함께하는데\\n소주가 빠질 수 없죠, 술 좋아하는 저희 부부는\\n소주 한 병 간단히 하기로 합니다,,ㅋㅋ돼지등뼈 크기 좀 보세요!\\n제 손바닥만 하더라구요. 감자탕 작은 사이즈로\\n주문했는데도 돼지등뼈가 정말 많이 들어가 있어요.고기도 야들야들~\\n돼지등뼈를 푹 익혀서 나왔는지 \\n고기가 전혀 질기지 않고 부드럽더라구요.고기는 소스에도 찍어 먹고,\\n시래기에 밥도 먹고 먹다 보니 순삭이더라구요.ㅋ\\n역시 한국인은 밥심,,ㅋ\\n양식보다 칼칼하고 얼큰한 국물 있는 한식을 좋아하는\\n저와 남편은 식성 하나는 끝내주게 잘 맞아요.\\n식성만,,^^잘 익은 수제비도 쫄깃쫄깃하니 국물이\\n잘 베어서 맛있더라구요.\\n라면사리도 하나 주문할까 했는데\\n이미 당면도 있었고 양이 꽤 많아서 못 먹었네요,\\n지금 생각하니 배불러도 먹을걸,, ᄏ이바돔감자탕 상무점에서는\\n육수 리필도 가능한데요. 계속 졸여 먹었더니\\n국물이 줄어들어서 육수만 좀 더 넣어서\\n끓여먹었어요. 계속 땡기는 진~한 국물은\\n소주 안주로도 굿굿!감자탕 맛있게 먹고 나갈 때 보니\\n3층에 감성 놀이터가 있더라구요.\\n매장 안에 놀이방만 있는 줄 알았더니\\n3층에는 더 큰 놀이방과 여러가지 체험을\\n할 수 있는 공간이 있었어요.\\n나중에 서윤이랑 같이 오면 올라가 봐야겠어요~ㅋ\\n상무지구에서 회사 다니시는 분들이나\\n얼큰한 국물이 생각날 때,\\n상무지구 점심으로 이바돔감자탕에서\\n든든한 한 끼 드시는 것도 좋을 것 같아요^^전에는 집주변에 맛집이 있어서 감자탕을 해먹을 생각을 한번도 한적이 없어요.\\n그런데 그 감자탕집이 없어지고...\\n회사주변 감자탕집은 뼈를 세서 주는데... \\n소자는 3개. 중자는 4개. 대자는 5개더라고요...\\n5만원에 뼈 5개라니... 그렇다고 우거지가 많은것도 아니고...\\n그래서 감자탕을 잊고 산지 오래인데 \\n마트에서 감자탕뼈를 파는걸 보고 한번 만들어보기로 했습니다. \\n엄마가 나물이나 채소반찬. 그리고 해산믈쪽은 잘하시는데 \\n고기를 거의 안드시다보니 굽는고기나 소고기무국. 갈비찜을 제외한 고기요리는 다 사먹는거라고 알고 살았거든요.\\n그래서 언니고 동생이고 해산물이나 채소요리는 잘하는데 고기요릴 집에서 해먹을수 있다는 생각을 전혀 안하고 살았어요.이걸 성공하면 뼈찜을 도전할거고요 \\n최종목표는 소꼬리찜입니다!!!마트에서 감자탕뼈를 1.6kg에 5000원도 안되게 팔더라고요.\\n돼지등뼈가 이렇게 싼건줄 몰랐어요.물에 담가서 핏물을 빼줍니다.... 그거아시나요? 고기가 5000원이 안되는데 얼갈이 한단 4000원줬어요.\\n깻바라 1800원... 고기보다 채소가 더 비쌈...\\n감자탕이 아니라 얼갈이탕이라고 불러야되는거 아닌가....핏물을 뺀 돼지등뼈.\\n뜨거운물에 소금과 술을 살짝 넣고 등뼈를 살짝 데쳐서 불순물을 제거해줍니다. \\n살짝 데친 등뼈를 깨끗하게 씻어서 불순물을 제거해줍니다. 저는 푹 익은 고기를 만들기 위해서 집에서 1년동안 한번도 꺼내지않았던 슬로우쿠커를 꺼냈습니다. \\n잘 씻은 등뼈와 물을 넣고 8시간 방치.\\n레시피는 백종원 뒷다리살 감자탕을 참고했습니다. \\n된장 4.5큰술\\n고추장 1큰술\\n굵은고추가루 3큰술\\n간마늘 2.5큰술\\n소고기다시다 1큰술\\n들깨가루 4큰술\\n후추가루 약간\\nmsg 0.5큰술\\n물 3.5리터\\n겨자소스는 물1.간장1. 식초0.3. 설탕0.3\\n저는 대체품으로 다시다대신 치킨스톡 1큰술. msg대신 연두 0.5큰술 넣었습니다.\\n국물이 텁텁해질까봐 들깨가루와 고추가루는 나중에... \\n나머지만 넣어서 쉐킷쉐킷.양념을 넣고 푸욱 고아줍니다. 왼쪽 2시간. 오른쪽 8시간.얼갈이를 데쳐줍니다. \\n얼갈이에 보이는 저아이는 아웃시켰습니다. 감자탕의 본체는 우거지잖아요. 많이많이 넣어줍니다.대파 양파 감자까지 싹 정리해서 준비해놨습니다.고기3덩이에 8시간 우러난 국물. 그리고 약간의 물감자한덩이와 우거지. 양파 파를 넣고 보글보글.\\n아. 감자는 껍질벗겨 팩에 넣은뒤 4분정도 전자렌지에 돌려줬어요. 생감자 아닙니다. \\n그리고 여기서 아까 안넣었던 고추가루와 들깨가루를 넣어줍니다. 마지막으로 깻잎과 후추가루를 넣어줍니다!!!완성된 감자탕.\\n욕심껏 뼈를 3개 담으며 이야 이거 3만원어치야!!!\\n이랬는데요.\\n우거지랑 깻잎 너무 맛있었어요.\\n우거지를 마음껏 먹을수 있다는점에서 너무너무너무 좋았어요!!!\\n만원으로 감자탕을 질리게 먹을수 있다니 손해보고 산거 같아요!!!하지만 뼈 3개도 다 못먹고 k.o.남은 고기랑 나머지 야채를 다 넣고 다시 국물을 끓여서 부어줍니다. \\n이건 엄마네 배달!!!\\n고기가 익기는 할까 걱정했는데 뼈랑 그냥 분리가 될정도로 엄청엄청 잘익었어요!!!\\n이제 감자탕은 해봤으니 다음에는 뼈찜 도전!!!지난 일요일에 카카오톡 쇼핑하기 만원이상 결제시 3천원 할인되는 쿠폰이 소멸된다고 그래서 뭔가 아까운 마음에 뭐 살거없나 뒤지다가 고래감자탕을 발견함아니 리뷰가 2655개?????\\n고래감자탕? 난 첨들어보는데 읽어보니 후기가 좋아서 이거다! 하고 시킴\\n심지어 2팩! 지금은 판매 끝났는데 내가살땐 2팩 10,900원이었음!\\n근데 3천원 쿠폰도있어서 오? 2개 7천원대? 괜찮네!평일 저녁으로 남편이랑 먹어야지 이럼서 시킴\\n(저녁 메뉴가 매일 고민인 아주미…)마침 포인트도 있어서 6560원인데\\n또 카카오페이 포인트도 있어서 실결제 5천원 후반대!\\n대박스!!ㅋㅋ 영혼까지 털었다!ㅋㅋ\\n산거 어제 먹어봄2개 아주 꽝꽝 얼어서 화요일에 도오착\\n담날 먹으려고 하나 냉장실에 넣어뒀는데와 하나도 안녹음 ㅋㅋㅋ\\n해동은 냉장실에서 12시간 또는 흐르는물에 30분인데… 냉장실에서 24시간 있었는데 이렇게 안녹다니 ㅋㅋㅋ실화냐???ㅋㅋ그대로 전골 냄비에 직행!더 맛나게 먹기위한 감자, 깻잎, 시래기, 팽이버섯 대령이오!!감자 넣어주고팽이버섯 투하무청시래기 투하(우거지가 좀 적은편이라는 후기가 많아서리…)깻잎 투하해서 바글바글 끓임당면도 집에있어서 꺼내는 두었으나 내용물이 넘 많을듯 하여 다시 서랍에 집어넣음 ㅋㅋ같이먹을 반찬도 준비\\n달걀말이 빼고 다 시어머니표 반찬(이렇게 보니 진짜 어머님 용돈 많이 드려야겠다.. 죄다 어머님 반찬! 가계에 보탬이 많이 됩니다요)\\n양배추김치\\n멸치볶음\\n소고기장조림\\n마늘짱아찌그리고 감태구이!\\n임산부한테 멸치, 감태 좋다고 들어서 자주 먹음!뼈는 2개 들어있어서 사이좋게 하나씩 나눠먹었다! 엄청 살이 많진 않았지만 나름 맛은 있었고 고기양이 좀 아쉬웠다 ㅠ(개인적으로..)\\n좀 바글바글 오래 끓이니 국물이 걸죽해지면서 국물맛은 굿!!! 그리고 깻잎 추가하기 전이랑 후 맛 봤는데 깻잎은 무조건 넣을것!! 향이 다름\\n그리고 감자에 양념이 스며서 넘 맛있음 ㅠ\\n우리신랑은 구황작물 싫어해서 감자 내가 다 먹었당 ㅠ ㅋㅋ 고기양이 약간 아쉬웠던…\\n잘 먹은 고래감자탕 후기 끝!(맛있었단 얘기)\\n#고래감자탕제가 외식을 하면 \\n거의 블로그에 기록을 남기니\\n검색만 하면 마지막으로 갔던 날이\\n바로 나오게 되지요...무려 6년만에 \\n호갱슈랑 찾은 연남동 맛집 송가네감자탕!\\n이 날 제가 뜨끈한 국물이 먹고 싶은데\\n칼국수 같은 면류는 호갱슈가 싫어하니;;;\\n그의 취향도 나름 고려를 해서 \\n제가고른 곳은 추억의 연남동 송가네!\\n찾아 보니 2015년에 마지막으로 갔더라구요.\\n그동안 연남동 인근 오며 가며\\n신축건물 송가네 감자탕을 보긴 했는데요,\\n들어간 것은 이 날이 처음이이었어요.\\n밖에 현수막이 걸렸는데\\n송가네 감자탕 사장님이 \\n어머나..훈장을 받으셨다고...\\n얼마나 대단한 일을 하셨길래\\n국민훈장 동백장까지 받으신 걸까요!! 대단!!\\nhttps://blog.naver.com/mitsru79/220507669915이 날도 따끈한 국물이 땡겼구만 미쯔루^^;\\n이 시절의 송가네가 그립기도 합니다.\\n진짜 기사님들 많이 오시던 곳이었는데...여기는 감자탕 보쌈이 시그니처인데\\n그새 못보던 세트메뉴가 나왔어요. \\n이걸 보니 급 쭈꾸미도 땡기는^^;그리고 냉면도 이제 하신다고..\\n여기는 보쌈이 맛있으니 냉면이랑\\n 같이 드심 좋긴 하겠어요...가격은 괜찮은데\\n맛은 어떨지...좀 당황스럽기도^^;\\n갑자기 늘어난 이 다양한 메뉴들에...발열체크 QR체크인 하고 입장\\n1층에 이렇게 테라스를 다 오픈해서\\n실내지만 야외서 먹는 느낌도 났던 우리 자리2015년에는 \\n잔치상이 2인 2만 4천원\\n6년 뒤인 지금은 3만원입니다.\\n그런데 너무 이 세트 너무 잘 나와서 \\n송가네 처음 가시면 잔치상 추천합니다.\\n혼자 가시면 보쌈정식 드시고요~\\n이 날 저랑 호갱슈랑 내린 결론은\\n감자탕도 맛있지만 보쌈이 최고다~배 슬라이스가 올라간\\n 달달한 보쌈김치도 맛있는 송가네!\\n여긴 보쌈 진짜 냄새 하나도 안나고\\n적당히 씹는 맛도 있고 정말 맛있어요...\\n보쌈은 새우젓이랑 쌈장이랑 같이 나옵니다.잔치상에 포함된 쭈꾸미볶음\\n이 날 처음 먹어 보았는데 달지 않아 좋고\\n불맛 아주 살짝 나면서 맛있었어요.\\n호갱슈가 쭈꾸미 별로 안 좋아해서\\n제가 다~ 먹느라 중간에 좀 지침;;;김치랑 쌈이랑 모두 리필가능!\\n셀프코너에 가셔서 담아 오심 됩니다.진짜 오랜만에 먹는 \\n#연남동맛집 송가네 감자탕바글바글 끓여서\\n 버섯이랑 깻잎부터 먹지요.\\n잔치상 감자탕은 \\n뼈 3개 들어 가네요.\\n저는 하나만 먹고 둘은 호갱슈에게로들깨가루 들어간 국물이 \\n묵직하니 맛있어서 계속 떠먹고...\\n감자탕 속의  감자도 꺼내서\\n으깨어서 밥이랑 비벼 먹고요..\\n어휴 이 시간에 또 군침이 주르륵 ㅜㅜ\\n6년만에 간 송가네감자탕\\n역시나 만족하고 나왔지요^^\\n나중에는 보쌈정식 2인 먹기로 했지요.\\n1인 보쌈정식 가격은 9천원 입니다.다 먹고 배 두드리면서\\n그동안 안 걸어본 연남동 길 걸어 보기\\n진짜 시골스런 느낌의\\n연남동 골목을 이 날 처음 가봤어요.\\n메인도로 거의 끝까지 계속 걸어 가면 나오네요..\\n파아란 지붕이랑 꽃색깔이 너무 이뻐서\\n바라만 봐도 기분이 좋아지던 풍경그리고 어딜 갈까 하다가\\n 며칠전에 언니들이랑 다녀 와서 \\n너무 좋았던 상암 노을공원에 가기로 했지요..\\n검색해서 연남동에서 \\n성산동까지 열심히 걸어 가서는\\n 마을버스 마포08번 타고 상암동 도착!\\n또 열심히 맹꽁이전기차 타는 곳까지 걷기\\n충격은 우리 이 날 진짜\\n엄청 많이 걸은 것 같았는데\\n정상에 올라 가니 만보도 안된거 ㅋㅋㅋ\\n일요일 저녁...\\n캠핑 오신 분들의\\n고기 구우시는 냄새에 \\n다시 식욕이 돋아서 잠시 괴로웠던 노을공원\\n이 가을! 연남동 갔다가\\n 2차 코스로 여기 강추합니다.\\n가을에는 하늘공원 노을공원 어디든 예쁘겠지요?'"
      ]
     },
     "execution_count": 3,
     "metadata": {},
     "output_type": "execute_result"
    }
   ],
   "source": [
    "content_list"
   ]
  }
 ],
 "metadata": {
  "kernelspec": {
   "display_name": "Python 3",
   "language": "python",
   "name": "python3"
  },
  "language_info": {
   "codemirror_mode": {
    "name": "ipython",
    "version": 3
   },
   "file_extension": ".py",
   "mimetype": "text/x-python",
   "name": "python",
   "nbconvert_exporter": "python",
   "pygments_lexer": "ipython3",
   "version": "3.7.6"
  }
 },
 "nbformat": 4,
 "nbformat_minor": 4
}
