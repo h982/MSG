{
  "nbformat": 4,
  "nbformat_minor": 0,
  "metadata": {
    "colab": {
      "name": "Untitled5.ipynb",
      "provenance": []
    },
    "kernelspec": {
      "name": "python3",
      "display_name": "Python 3"
    },
    "language_info": {
      "name": "python"
    }
  },
  "cells": [
    {
      "cell_type": "code",
      "metadata": {
        "id": "4azeSrKdM56P"
      },
      "source": [
        "import json\n",
        "\n",
        "# Open our JSON file and load it into python\n",
        "input_file = open ('./drive/MyDrive/data.json')\n",
        "json_array = json.load(input_file)\n"
      ],
      "execution_count": 3,
      "outputs": []
    },
    {
      "cell_type": "code",
      "metadata": {
        "colab": {
          "base_uri": "https://localhost:8080/"
        },
        "id": "PdPki-sXTCgR",
        "outputId": "48450f27-eec0-40d7-9f8b-155e1c8a5ac4"
      },
      "source": [
        "print(json_array[10])"
      ],
      "execution_count": null,
      "outputs": [
        {
          "output_type": "stream",
          "name": "stdout",
          "text": [
            "{'id': 11, 'name': '국수이야기', 'branch': None, 'area': '월곶', 'tel': '031-317-8002', 'address': '경기도 시흥시 월곶동 1006-3', 'latitude': '37.388700', 'longitude': '126.740000', 'category_list': [{'category': '국수'}, {'category': '고기국수'}], 'menu_list': [{'menu': '고기국수', 'price': 6000}, {'menu': '고기비빔국수', 'price': 6000}, {'menu': '비빔국수', 'price': 5000}, {'menu': '잔치국수', 'price': 4000}, {'menu': '땡초전', 'price': 4000}, {'menu': '땡초김밥', 'price': 2000}, {'menu': '참치마요주먹밥', 'price': 2000}, {'menu': '꼬물이만두', 'price': 5000}, {'menu': '삼둥이갈비만두', 'price': 5000}], 'bhour_list': [{'type': 1, 'week_type': 1, 'mon': 1, 'tue': 1, 'wed': 1, 'thu': 1, 'fri': 1, 'sat': 0, 'sun': 0, 'start_time': '10:00:00', 'end_time': '21:00:00', 'etc': '매주 일요일 휴무'}, {'type': 1, 'week_type': 1, 'mon': 0, 'tue': 0, 'wed': 0, 'thu': 0, 'fri': 0, 'sat': 1, 'sun': 0, 'start_time': '10:00:00', 'end_time': '19:00:00', 'etc': ''}], 'review_cnt': 0, 'review_list': []}\n"
          ]
        }
      ]
    },
    {
      "cell_type": "code",
      "metadata": {
        "id": "xMKL2wpyPsPU"
      },
      "source": [
        "#int t = 0\n",
        "result = []\n",
        "\n",
        "for review in json_array:\n",
        "  if review['review_cnt'] > 0:\n",
        "    rest = {}\n",
        "    rest['id']= review['id']\n",
        "    rest['address'] = review['address']\n",
        "    rest['review_list'] = review['review_list']\n",
        "    result.append(rest);"
      ],
      "execution_count": 4,
      "outputs": []
    },
    {
      "cell_type": "code",
      "metadata": {
        "id": "XquA4Al2W1rs"
      },
      "source": [
        "idx = 0\n",
        "good = 0\n",
        "soso = 0\n",
        "bad = 0\n",
        "result2 = []\n",
        "for rev in result:\n",
        "  for re in rev['review_list']:\n",
        "    temp = []\n",
        "    temp.append(idx)\n",
        "    test = re['review_info']\n",
        "    temp.append(test['content'])\n",
        "    \n",
        "    if test['score'] >= 4:\n",
        "      temp.append(2)\n",
        "    elif test['score'] == 3:\n",
        "      temp.append(1)\n",
        "    elif test['score'] <= 2:\n",
        "      temp.append(0)\n",
        "    idx = idx + 1\n",
        "    result2.append(temp)"
      ],
      "execution_count": 14,
      "outputs": []
    },
    {
      "cell_type": "code",
      "metadata": {
        "id": "8dUU-bEeX72B"
      },
      "source": [
        "for y in result2:\n",
        "  print(y)"
      ],
      "execution_count": null,
      "outputs": []
    },
    {
      "cell_type": "code",
      "metadata": {
        "id": "yA7O_bejaWHY"
      },
      "source": [
        "json_val = json.dumps(result)"
      ],
      "execution_count": null,
      "outputs": []
    },
    {
      "cell_type": "code",
      "metadata": {
        "id": "7JJuqc5aA3AI"
      },
      "source": [
        "import re\n",
        "\n"
      ],
      "execution_count": 45,
      "outputs": []
    },
    {
      "cell_type": "code",
      "metadata": {
        "id": "ozdo-sRYawYN"
      },
      "source": [
        "file_path = \"./drive/MyDrive/210916_train.txt\"\n",
        "\n",
        "with open(file_path, 'w') as outfile:\n",
        "    outfile.write('id\\tdocument\\tlabel\\n')\n",
        "    for y in result2:\n",
        "      if len(y[1]) == 0:\n",
        "        continue\n",
        "      wr = ('%d\\t' %y[0])\n",
        "      outfile.write(wr)\n",
        "      outfile.write(y[1].replace('\\n',' ').replace('\\r',''))\n",
        "      outfile.write('\\t')\n",
        "      wr2 = ('%d ' %y[2])\n",
        "      outfile.write(wr2)\n",
        "      outfile.write('\\n')\n",
        "    #json.dump(result, outfile, ensure_ascii=False)\n",
        "#json 만들때"
      ],
      "execution_count": 82,
      "outputs": []
    },
    {
      "cell_type": "code",
      "metadata": {
        "id": "2BV9zQ3YOzl1",
        "colab": {
          "base_uri": "https://localhost:8080/",
          "height": 136
        },
        "outputId": "cad33e83-683d-48d2-f820-7eec5dd278fb"
      },
      "source": [
        "# Learn how to loop better =/\n",
        "\n",
        "\n",
        "# Print my results\n",
        "print(store_details)"
      ],
      "execution_count": 1,
      "outputs": [
        {
          "output_type": "error",
          "ename": "SyntaxError",
          "evalue": "ignored",
          "traceback": [
            "\u001b[0;36m  File \u001b[0;32m\"<ipython-input-1-94dd86f95f77>\"\u001b[0;36m, line \u001b[0;32m2\u001b[0m\n\u001b[0;31m    for stores in\u001b[0m\n\u001b[0m                  ^\u001b[0m\n\u001b[0;31mSyntaxError\u001b[0m\u001b[0;31m:\u001b[0m invalid syntax\n"
          ]
        }
      ]
    },
    {
      "cell_type": "code",
      "metadata": {
        "id": "fm1f11g98N6h"
      },
      "source": [
        "idx = 0\n",
        "good = 0\n",
        "soso = 0\n",
        "bad = 0\n",
        "for rev in result:\n",
        "  for re in rev['review_list']:\n",
        "    test = re['review_info']\n",
        "    \n",
        "    if test['score'] >= 4:\n",
        "      good +=1\n",
        "    elif test['score'] == 3:\n",
        "      soso += 1\n",
        "    elif test['score'] <= 2:\n",
        "      bad += 1"
      ],
      "execution_count": 24,
      "outputs": []
    },
    {
      "cell_type": "code",
      "metadata": {
        "colab": {
          "base_uri": "https://localhost:8080/"
        },
        "id": "Xsf2P3ZoJFsi",
        "outputId": "3c79a269-99c7-4aaa-e134-e000d4d5f824"
      },
      "source": [
        "print(good)\n",
        "print(soso)\n",
        "print(bad)"
      ],
      "execution_count": 25,
      "outputs": [
        {
          "output_type": "stream",
          "name": "stdout",
          "text": [
            "63521\n",
            "17786\n",
            "10091\n"
          ]
        }
      ]
    }
  ]
}