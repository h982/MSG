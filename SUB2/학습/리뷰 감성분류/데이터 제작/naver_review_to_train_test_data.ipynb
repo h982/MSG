{
  "nbformat": 4,
  "nbformat_minor": 0,
  "metadata": {
    "colab": {
      "name": "naver_review_to_train_test_data.ipynb",
      "provenance": []
    },
    "kernelspec": {
      "name": "python3",
      "display_name": "Python 3"
    },
    "language_info": {
      "name": "python"
    }
  },
  "cells": [
    {
      "cell_type": "code",
      "metadata": {
        "id": "XOPidEOzTSi2"
      },
      "source": [
        "import csv \n",
        "import json \n",
        "# Function to convert a CSV to JSON # Takes the file paths as arguments def make_json(csvFilePath, jsonFilePath): # create a dictionary data = {} # Open a csv reader called DictReader with open(csvFilePath, encoding='utf-8') as csvf: csvReader = csv.DictReader(csvf) # Convert each row into a dictionary # and add it to data for rows in csvReader: # Assuming a column named 'No' to # be the primary key key = rows['No'] data[key] = rows # Open a json writer, and use the json.dumps() # function to dump data with open(jsonFilePath, 'w', encoding='utf-8') as jsonf: jsonf.write(json.dumps(data, indent=4))\n",
        "result = []\n",
        "\n",
        "with open('./drive/MyDrive/kor0923review.csv', encoding='utf-8') as csvf: \n",
        "  csvReader = csv.DictReader(csvf)\n",
        "  idx = 0\n",
        "  for row in csvReader:\n",
        "    idx+=1\n",
        "    rest = {}\n",
        "    rest['id']= row['id']\n",
        "    rest['review'] = row['naver_blog_review_txt']\n",
        "    rest['score'] = row['naver_star_point']\n",
        "    result.append(rest)\n",
        "    print(rest)"
      ],
      "execution_count": null,
      "outputs": []
    },
    {
      "cell_type": "code",
      "metadata": {
        "id": "grvqmJ3eNULs"
      },
      "source": [
        "idx = 0\n",
        "good = 0\n",
        "soso = 0\n",
        "bad = 0\n",
        "result2 = []\n",
        "for rev in result:\n",
        "  temp = []\n",
        "  temp.append(idx)\n",
        "  temp.append(rev['review'])\n",
        "  if float(rev['score']) >= 4:\n",
        "    temp.append(2)\n",
        "  elif float(rev['score']) < 4 and float(rev['score']) > 2:\n",
        "    temp.append(1)\n",
        "  elif float(rev['score']) <= 2:\n",
        "    temp.append(0)\n",
        "  idx = idx + 1\n",
        "  result2.append(temp)"
      ],
      "execution_count": null,
      "outputs": []
    },
    {
      "cell_type": "code",
      "metadata": {
        "id": "FMYwDdHmj_Zo"
      },
      "source": [
        "print(result2)"
      ],
      "execution_count": null,
      "outputs": []
    },
    {
      "cell_type": "code",
      "metadata": {
        "id": "1DA1ZYiCEjoO"
      },
      "source": [
        "file_path = \"./drive/MyDrive/210923_eval.txt\"\n",
        "\n",
        "with open(file_path, 'w') as outfile:\n",
        "    outfile.write('id\\tdocument\\tlabel\\n')\n",
        "    for y in result2:\n",
        "      if len(y[1]) == 0:\n",
        "        continue\n",
        "      wr = ('%d\\t' %y[0])\n",
        "      outfile.write(wr)\n",
        "      outfile.write(y[1].replace('\\n',' ').replace('\\r',''))\n",
        "      outfile.write('\\t')\n",
        "      wr2 = ('%d ' %y[2])\n",
        "      outfile.write(wr2)\n",
        "      outfile.write('\\n')"
      ],
      "execution_count": null,
      "outputs": []
    }
  ]
}